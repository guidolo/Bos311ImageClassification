{
 "cells": [
  {
   "cell_type": "code",
   "execution_count": 2,
   "metadata": {
    "collapsed": true,
    "deletable": true,
    "editable": true
   },
   "outputs": [],
   "source": [
    "import sys\n",
    "\n",
    "sys.path.insert(0, '/home/guido/NEU/DA 5030 Introduction to Data MiningMachine Learning/FinalProject/Laboratory/ImageProcessing/')\n",
    "import ImageProcessing as im\n",
    "\n",
    "sys.path.insert(0, '/home/guido/NEU/DA 5030 Introduction to Data MiningMachine Learning/FinalProject/Laboratory/NeuralNet Lab/')\n",
    "import NN5L as nn\n"
   ]
  },
  {
   "cell_type": "markdown",
   "metadata": {
    "deletable": true,
    "editable": true
   },
   "source": [
    "Image with downsampling and verticalEdge, size 400, 150 components"
   ]
  },
  {
   "cell_type": "code",
   "execution_count": 4,
   "metadata": {
    "collapsed": false,
    "deletable": true,
    "editable": true
   },
   "outputs": [
    {
     "name": "stdout",
     "output_type": "stream",
     "text": [
      "Starting...\n",
      "0: accuracy:0.7 loss: 6.82457 (lr:0.003)\n",
      "0: ********* epoch: -1 ********* test accuracy:0.498282 test loss: 6.93623\n",
      "87: accuracy:0.7 loss: 6.57413 (lr:0.003)\n",
      "87: ********* epoch: 0 ********* test accuracy:0.498282 test loss: 6.98735\n",
      "174: accuracy:0.7 loss: 6.58782 (lr:0.003)\n",
      "174: ********* epoch: 1 ********* test accuracy:0.498282 test loss: 6.98265\n",
      "261: accuracy:0.7 loss: 6.59645 (lr:0.003)\n",
      "261: ********* epoch: 2 ********* test accuracy:0.498282 test loss: 6.97982\n",
      "348: accuracy:0.7 loss: 6.60418 (lr:0.003)\n",
      "348: ********* epoch: 3 ********* test accuracy:0.498282 test loss: 6.97738\n",
      "435: accuracy:0.7 loss: 6.61149 (lr:0.003)\n",
      "435: ********* epoch: 4 ********* test accuracy:0.498282 test loss: 6.97514\n",
      "523: accuracy:0.7 loss: 6.60267 (lr:0.003)\n",
      "523: ********* epoch: 5 ********* test accuracy:0.498282 test loss: 6.97785\n",
      "610: accuracy:0.7 loss: 6.61708 (lr:0.003)\n",
      "610: ********* epoch: 6 ********* test accuracy:0.498282 test loss: 6.97348\n",
      "697: accuracy:0.7 loss: 6.6302 (lr:0.003)\n",
      "697: ********* epoch: 7 ********* test accuracy:0.498282 test loss: 6.96974\n",
      "784: accuracy:0.7 loss: 6.63515 (lr:0.003)\n",
      "784: ********* epoch: 8 ********* test accuracy:0.498282 test loss: 6.96839\n",
      "Oops!\n"
     ]
    }
   ],
   "source": [
    "try:\n",
    "    print(\"Starting...\")\n",
    "    X=0\n",
    "    (X,Y) = im.ImageLoader(0, downsampling=True, colour='', verticalEdge=False, horizontalEdge=False, canny=False, slic=False, sizeImage=200, dim=3, vectorx=False, vectory=False)\n",
    "    nn.NN5L(images = X, y=Y, percent_training=0.25, classes=2, w=200, h=200, dim=3, banchSize=10, iteration=1000)\n",
    "except:\n",
    "    print(\"Oops!\")"
   ]
  },
  {
   "cell_type": "code",
   "execution_count": 5,
   "metadata": {
    "collapsed": false,
    "deletable": true,
    "editable": true
   },
   "outputs": [
    {
     "name": "stdout",
     "output_type": "stream",
     "text": [
      "0: accuracy:0.7 loss: 6.65417 (lr:0.003)\n",
      "0: ********* epoch: -1 ********* test accuracy:0.498282 test loss: 6.96345\n",
      "87: accuracy:0.7 loss: 6.57618 (lr:0.003)\n",
      "87: ********* epoch: 0 ********* test accuracy:0.498282 test loss: 6.98663\n",
      "174: accuracy:0.7 loss: 6.58324 (lr:0.003)\n",
      "174: ********* epoch: 1 ********* test accuracy:0.498282 test loss: 6.98419\n",
      "261: accuracy:0.7 loss: 6.5885 (lr:0.003)\n",
      "261: ********* epoch: 2 ********* test accuracy:0.498282 test loss: 6.98242\n",
      "Oops!\n"
     ]
    }
   ],
   "source": [
    "try:\n",
    "    X=0\n",
    "    (X,Y) = im.ImageLoader(0, downsampling=True, colour='blue', verticalEdge=False, horizontalEdge=False, canny=False, slic=False, sizeImage=300, dim=1, vectorx=False, vectory=False)\n",
    "    nn.NN5L(images = X, y=Y, percent_training=0.25, classes=2,w=300, h=300, dim=1, banchSize=10, iteration=1000)\n",
    "except:\n",
    "    print(\"Oops!\")"
   ]
  },
  {
   "cell_type": "code",
   "execution_count": null,
   "metadata": {
    "collapsed": false,
    "deletable": true,
    "editable": true
   },
   "outputs": [],
   "source": [
    "try:\n",
    "    X=0\n",
    "    (X,Y) = im.ImageLoader(0, downsampling=True, colour='green', verticalEdge=False, horizontalEdge=False, canny=False, slic=False, sizeImage=400, dim=1, vectorx=False, vectory=False)\n",
    "    nn.NN5L(images = X, y=Y, percent_training=0.25, classes=2,w=400, h=400, dim=1, banchSize=10, iteration=1000)\n",
    "except:\n",
    "    print(\"Oops!\")"
   ]
  },
  {
   "cell_type": "code",
   "execution_count": 5,
   "metadata": {
    "collapsed": false
   },
   "outputs": [
    {
     "name": "stdout",
     "output_type": "stream",
     "text": [
      "0: accuracy:0.7 loss: 6.8094 (lr:0.003)\n",
      "0: ********* epoch: -1 ********* test accuracy:0.498282 test loss: 6.9376\n",
      "87: accuracy:0.7 loss: 6.56908 (lr:0.003)\n",
      "87: ********* epoch: 0 ********* test accuracy:0.498282 test loss: 6.98916\n",
      "174: accuracy:0.7 loss: 6.58188 (lr:0.003)\n",
      "174: ********* epoch: 1 ********* test accuracy:0.498282 test loss: 6.98466\n",
      "261: accuracy:0.7 loss: 6.59046 (lr:0.003)\n",
      "261: ********* epoch: 2 ********* test accuracy:0.498282 test loss: 6.98177\n",
      "348: accuracy:0.7 loss: 6.59806 (lr:0.003)\n",
      "348: ********* epoch: 3 ********* test accuracy:0.498282 test loss: 6.9793\n",
      "435: accuracy:0.7 loss: 6.60501 (lr:0.003)\n",
      "435: ********* epoch: 4 ********* test accuracy:0.498282 test loss: 6.97711\n",
      "523: accuracy:0.7 loss: 6.59564 (lr:0.003)\n",
      "523: ********* epoch: 5 ********* test accuracy:0.498282 test loss: 6.98008\n",
      "610: accuracy:0.7 loss: 6.61113 (lr:0.003)\n",
      "610: ********* epoch: 6 ********* test accuracy:0.498282 test loss: 6.97525\n",
      "697: accuracy:0.7 loss: 6.62334 (lr:0.003)\n",
      "697: ********* epoch: 7 ********* test accuracy:0.498282 test loss: 6.97167\n",
      "784: accuracy:0.7 loss: 6.62842 (lr:0.003)\n",
      "784: ********* epoch: 8 ********* test accuracy:0.498282 test loss: 6.97023\n",
      "871: accuracy:0.7 loss: 6.63297 (lr:0.003)\n",
      "871: ********* epoch: 9 ********* test accuracy:0.498282 test loss: 6.96898\n",
      "959: accuracy:0.7 loss: 6.62357 (lr:0.003)\n",
      "959: ********* epoch: 10 ********* test accuracy:0.498282 test loss: 6.9716\n",
      "1046: accuracy:0.7 loss: 6.63112 (lr:0.003)\n",
      "1046: ********* epoch: 11 ********* test accuracy:0.498282 test loss: 6.96948\n",
      "1133: accuracy:0.7 loss: 6.64422 (lr:0.003)\n",
      "1133: ********* epoch: 12 ********* test accuracy:0.498282 test loss: 6.96598\n",
      "1220: accuracy:0.7 loss: 6.64826 (lr:0.003)\n",
      "1220: ********* epoch: 13 ********* test accuracy:0.498282 test loss: 6.96495\n",
      "1307: accuracy:0.7 loss: 6.65112 (lr:0.003)\n",
      "1307: ********* epoch: 14 ********* test accuracy:0.498282 test loss: 6.96422\n",
      "1395: accuracy:0.7 loss: 6.64141 (lr:0.003)\n",
      "1395: ********* epoch: 15 ********* test accuracy:0.498282 test loss: 6.96672\n",
      "1482: accuracy:0.7 loss: 6.64339 (lr:0.003)\n",
      "1482: ********* epoch: 16 ********* test accuracy:0.498282 test loss: 6.9662\n",
      "1569: accuracy:0.7 loss: 6.65628 (lr:0.003)\n",
      "1569: ********* epoch: 17 ********* test accuracy:0.498282 test loss: 6.96295\n",
      "1656: accuracy:0.7 loss: 6.65965 (lr:0.003)\n",
      "1656: ********* epoch: 18 ********* test accuracy:0.498282 test loss: 6.96213\n",
      "1743: accuracy:0.7 loss: 6.66175 (lr:0.003)\n",
      "1743: ********* epoch: 19 ********* test accuracy:0.498282 test loss: 6.96163\n",
      "1831: accuracy:0.7 loss: 6.652 (lr:0.003)\n",
      "1831: ********* epoch: 20 ********* test accuracy:0.498282 test loss: 6.964\n",
      "1918: accuracy:0.7 loss: 6.65122 (lr:0.003)\n",
      "1918: ********* epoch: 21 ********* test accuracy:0.498282 test loss: 6.9642\n",
      "1999: ********* epoch final ********* test accuracy:0.498282 test loss: 6.95643\n"
     ]
    }
   ],
   "source": [
    "try:\n",
    "    X=0\n",
    "    (X,Y) = im.ImageLoader(0, downsampling=True, colour='red', verticalEdge=False, horizontalEdge=False, canny=False, slic=False, sizeImage=400, dim=1, vectorx=False, vectory=False)\n",
    "    nn.NN5L(images = X, y=Y, percent_training=0.25, classes=2,w=400, h=400, dim=1, banchSize=10, iteration=2000)\n",
    "except:\n",
    "    print(\"Oops!\")"
   ]
  },
  {
   "cell_type": "code",
   "execution_count": 2,
   "metadata": {
    "collapsed": false,
    "deletable": true,
    "editable": true
   },
   "outputs": [
    {
     "name": "stdout",
     "output_type": "stream",
     "text": [
      "0: accuracy:0.3 loss: 7.12438 (lr:0.003)\n",
      "0: ********* epoch: -1 ********* test accuracy:0.501718 test loss: 6.94092\n",
      "87: accuracy:0.7 loss: 6.57078 (lr:0.003)\n",
      "87: ********* epoch: 0 ********* test accuracy:0.498282 test loss: 6.98865\n",
      "174: accuracy:0.7 loss: 6.58306 (lr:0.003)\n",
      "174: ********* epoch: 1 ********* test accuracy:0.498282 test loss: 6.98429\n",
      "261: accuracy:0.7 loss: 6.60268 (lr:0.003)\n",
      "261: ********* epoch: 2 ********* test accuracy:0.498282 test loss: 6.96979\n",
      "348: accuracy:0.7 loss: 6.51371 (lr:0.003)\n",
      "348: ********* epoch: 3 ********* test accuracy:0.498282 test loss: 7.00797\n",
      "435: accuracy:0.7 loss: 6.71052 (lr:0.003)\n",
      "435: ********* epoch: 4 ********* test accuracy:0.512028 test loss: 6.87394\n",
      "523: accuracy:0.8 loss: 6.25362 (lr:0.003)\n",
      "523: ********* epoch: 5 ********* test accuracy:0.608247 test loss: 6.72527\n",
      "610: accuracy:0.8 loss: 5.42104 (lr:0.003)\n",
      "610: ********* epoch: 6 ********* test accuracy:0.580756 test loss: 7.04478\n",
      "697: accuracy:0.7 loss: 6.0638 (lr:0.003)\n",
      "697: ********* epoch: 7 ********* test accuracy:0.584192 test loss: 7.32014\n",
      "784: accuracy:0.8 loss: 5.12041 (lr:0.003)\n",
      "784: ********* epoch: 8 ********* test accuracy:0.536082 test loss: 8.61201\n",
      "871: accuracy:0.7 loss: 5.59269 (lr:0.003)\n",
      "871: ********* epoch: 9 ********* test accuracy:0.553265 test loss: 8.04926\n",
      "959: accuracy:0.6 loss: 6.43359 (lr:0.003)\n",
      "959: ********* epoch: 10 ********* test accuracy:0.601375 test loss: 7.43623\n",
      "1046: accuracy:0.8 loss: 5.17392 (lr:0.003)\n",
      "1046: ********* epoch: 11 ********* test accuracy:0.573883 test loss: 9.01098\n",
      "1133: accuracy:0.9 loss: 3.64179 (lr:0.003)\n",
      "1133: ********* epoch: 12 ********* test accuracy:0.628866 test loss: 7.68256\n",
      "1220: accuracy:0.8 loss: 5.38798 (lr:0.003)\n",
      "1220: ********* epoch: 13 ********* test accuracy:0.604811 test loss: 9.11466\n",
      "1307: accuracy:0.8 loss: 5.49034 (lr:0.003)\n",
      "1307: ********* epoch: 14 ********* test accuracy:0.570447 test loss: 10.3404\n",
      "1395: accuracy:0.8 loss: 4.23826 (lr:0.003)\n",
      "1395: ********* epoch: 15 ********* test accuracy:0.621993 test loss: 9.17607\n",
      "1482: accuracy:0.7 loss: 7.01536 (lr:0.003)\n",
      "1482: ********* epoch: 16 ********* test accuracy:0.508591 test loss: 9.82077\n",
      "1569: accuracy:0.8 loss: 5.26227 (lr:0.003)\n",
      "1569: ********* epoch: 17 ********* test accuracy:0.573883 test loss: 10.184\n",
      "1656: accuracy:0.9 loss: 3.27178 (lr:0.003)\n",
      "1656: ********* epoch: 18 ********* test accuracy:0.621993 test loss: 10.0809\n",
      "1743: accuracy:0.9 loss: 3.28132 (lr:0.003)\n",
      "1743: ********* epoch: 19 ********* test accuracy:0.611684 test loss: 9.869\n",
      "1831: accuracy:0.8 loss: 4.50775 (lr:0.003)\n",
      "1831: ********* epoch: 20 ********* test accuracy:0.580756 test loss: 10.1801\n",
      "1918: accuracy:0.9 loss: 2.68738 (lr:0.003)\n",
      "1918: ********* epoch: 21 ********* test accuracy:0.580756 test loss: 10.7908\n",
      "1999: ********* epoch final ********* test accuracy:0.597938 test loss: 11.6405\n"
     ]
    }
   ],
   "source": [
    "try:\n",
    "    X=0\n",
    "    (X,Y) = im.ImageLoader(0, downsampling=True, colour='red', verticalEdge=True, horizontalEdge=False, canny=False, slic=False, sizeImage=200, dim=1, vectorx=False, vectory=False)\n",
    "    nn.NN5L(images = X, y=Y, percent_training=0.25, classes=2,w=200, h=200, dim=1, banchSize=10, iteration=2000)\n",
    "except:\n",
    "    print(\"Oops!\")"
   ]
  },
  {
   "cell_type": "code",
   "execution_count": 6,
   "metadata": {
    "collapsed": false
   },
   "outputs": [
    {
     "name": "stdout",
     "output_type": "stream",
     "text": [
      "0: accuracy:0.3 loss: 6.95179 (lr:0.003)\n",
      "0: ********* epoch: -1 ********* test accuracy:0.501718 test loss: 6.93162\n",
      "87: accuracy:0.7 loss: 6.56402 (lr:0.003)\n",
      "87: ********* epoch: 0 ********* test accuracy:0.498282 test loss: 6.99065\n",
      "174: accuracy:0.7 loss: 6.57619 (lr:0.003)\n",
      "174: ********* epoch: 1 ********* test accuracy:0.498282 test loss: 6.98636\n",
      "261: accuracy:0.7 loss: 6.58359 (lr:0.003)\n",
      "261: ********* epoch: 2 ********* test accuracy:0.498282 test loss: 6.98387\n",
      "348: accuracy:0.7 loss: 6.58973 (lr:0.003)\n",
      "348: ********* epoch: 3 ********* test accuracy:0.498282 test loss: 6.98185\n",
      "435: accuracy:0.7 loss: 6.59511 (lr:0.003)\n",
      "435: ********* epoch: 4 ********* test accuracy:0.498282 test loss: 6.98002\n",
      "523: accuracy:0.7 loss: 6.58306 (lr:0.003)\n",
      "523: ********* epoch: 5 ********* test accuracy:0.498282 test loss: 6.98398\n",
      "610: accuracy:0.7 loss: 6.59869 (lr:0.003)\n",
      "610: ********* epoch: 6 ********* test accuracy:0.498282 test loss: 6.97883\n",
      "697: accuracy:0.7 loss: 6.60859 (lr:0.003)\n",
      "697: ********* epoch: 7 ********* test accuracy:0.498282 test loss: 6.97565\n",
      "784: accuracy:0.7 loss: 6.61326 (lr:0.003)\n",
      "784: ********* epoch: 8 ********* test accuracy:0.498282 test loss: 6.9745\n",
      "871: accuracy:0.7 loss: 6.61985 (lr:0.003)\n",
      "871: ********* epoch: 9 ********* test accuracy:0.498282 test loss: 6.97265\n",
      "959: accuracy:0.7 loss: 6.60997 (lr:0.003)\n",
      "959: ********* epoch: 10 ********* test accuracy:0.498282 test loss: 6.97543\n",
      "1046: accuracy:0.7 loss: 6.62117 (lr:0.003)\n",
      "1046: ********* epoch: 11 ********* test accuracy:0.498282 test loss: 6.97224\n",
      "1133: accuracy:0.7 loss: 6.63416 (lr:0.003)\n",
      "1133: ********* epoch: 12 ********* test accuracy:0.498282 test loss: 6.96865\n",
      "1220: accuracy:0.7 loss: 6.63878 (lr:0.003)\n",
      "1220: ********* epoch: 13 ********* test accuracy:0.498282 test loss: 6.9674\n",
      "1307: accuracy:0.7 loss: 6.64254 (lr:0.003)\n",
      "1307: ********* epoch: 14 ********* test accuracy:0.498282 test loss: 6.96641\n",
      "1395: accuracy:0.7 loss: 6.63282 (lr:0.003)\n",
      "1395: ********* epoch: 15 ********* test accuracy:0.498282 test loss: 6.96899\n",
      "1482: accuracy:0.7 loss: 6.63745 (lr:0.003)\n",
      "1482: ********* epoch: 16 ********* test accuracy:0.498282 test loss: 6.96774\n",
      "1569: accuracy:0.7 loss: 6.65043 (lr:0.003)\n",
      "1569: ********* epoch: 17 ********* test accuracy:0.498282 test loss: 6.96438\n",
      "1656: accuracy:0.7 loss: 6.6534 (lr:0.003)\n",
      "1656: ********* epoch: 18 ********* test accuracy:0.498282 test loss: 6.96358\n",
      "1743: accuracy:0.7 loss: 6.65547 (lr:0.003)\n",
      "1743: ********* epoch: 19 ********* test accuracy:0.498282 test loss: 6.96312\n",
      "1831: accuracy:0.7 loss: 6.6449 (lr:0.003)\n",
      "1831: ********* epoch: 20 ********* test accuracy:0.498282 test loss: 6.96561\n",
      "1918: accuracy:0.7 loss: 6.64632 (lr:0.003)\n",
      "1918: ********* epoch: 21 ********* test accuracy:0.498282 test loss: 6.96533\n",
      "1999: ********* epoch final ********* test accuracy:0.498282 test loss: 6.95785\n"
     ]
    }
   ],
   "source": [
    "try:\n",
    "    X=0\n",
    "    (X,Y) = im.ImageLoader(0, downsampling=True, colour='red', verticalEdge=True, horizontalEdge=False, canny=False, slic=False, sizeImage=400, dim=1, vectorx=False, vectory=False)\n",
    "    nn.NN5L(images = X, y=Y, percent_training=0.25, classes=2,w=400, h=400, dim=1, banchSize=10, iteration=2000)\n",
    "except:\n",
    "    print(\"Oops!\")"
   ]
  },
  {
   "cell_type": "code",
   "execution_count": 7,
   "metadata": {
    "collapsed": false,
    "deletable": true,
    "editable": true
   },
   "outputs": [
    {
     "name": "stdout",
     "output_type": "stream",
     "text": [
      "0: accuracy:0.7 loss: 6.85962 (lr:0.003)\n",
      "0: ********* epoch: -1 ********* test accuracy:0.498282 test loss: 6.93373\n",
      "87: accuracy:0.7 loss: 6.56556 (lr:0.003)\n",
      "87: ********* epoch: 0 ********* test accuracy:0.498282 test loss: 6.99001\n",
      "174: accuracy:0.7 loss: 6.57551 (lr:0.003)\n",
      "174: ********* epoch: 1 ********* test accuracy:0.498282 test loss: 6.98632\n",
      "261: accuracy:0.7 loss: 6.58089 (lr:0.003)\n",
      "261: ********* epoch: 2 ********* test accuracy:0.498282 test loss: 6.9847\n",
      "348: accuracy:0.7 loss: 6.58529 (lr:0.003)\n",
      "348: ********* epoch: 3 ********* test accuracy:0.498282 test loss: 6.98269\n",
      "435: accuracy:0.7 loss: 6.58526 (lr:0.003)\n",
      "435: ********* epoch: 4 ********* test accuracy:0.498282 test loss: 6.98194\n",
      "523: accuracy:0.7 loss: 6.56676 (lr:0.003)\n",
      "523: ********* epoch: 5 ********* test accuracy:0.498282 test loss: 6.98693\n",
      "610: accuracy:0.7 loss: 6.58801 (lr:0.003)\n",
      "610: ********* epoch: 6 ********* test accuracy:0.498282 test loss: 6.9807\n",
      "697: accuracy:0.7 loss: 6.59018 (lr:0.003)\n",
      "697: ********* epoch: 7 ********* test accuracy:0.498282 test loss: 6.97841\n",
      "784: accuracy:0.7 loss: 6.5819 (lr:0.003)\n",
      "784: ********* epoch: 8 ********* test accuracy:0.498282 test loss: 6.97688\n",
      "871: accuracy:0.7 loss: 6.55426 (lr:0.003)\n",
      "871: ********* epoch: 9 ********* test accuracy:0.498282 test loss: 6.9935\n",
      "959: accuracy:0.7 loss: 6.59077 (lr:0.003)\n",
      "959: ********* epoch: 10 ********* test accuracy:0.498282 test loss: 6.98035\n",
      "1046: accuracy:0.7 loss: 6.60451 (lr:0.003)\n",
      "1046: ********* epoch: 11 ********* test accuracy:0.498282 test loss: 6.97619\n",
      "1133: accuracy:0.7 loss: 6.60006 (lr:0.003)\n",
      "1133: ********* epoch: 12 ********* test accuracy:0.498282 test loss: 6.97342\n",
      "1220: accuracy:0.7 loss: 6.54004 (lr:0.003)\n",
      "1220: ********* epoch: 13 ********* test accuracy:0.498282 test loss: 6.98645\n",
      "1307: accuracy:0.7 loss: 6.55175 (lr:0.003)\n",
      "1307: ********* epoch: 14 ********* test accuracy:0.498282 test loss: 6.98736\n",
      "1395: accuracy:0.7 loss: 6.51701 (lr:0.003)\n",
      "1395: ********* epoch: 15 ********* test accuracy:0.498282 test loss: 6.99432\n",
      "1482: accuracy:0.7 loss: 6.46007 (lr:0.003)\n",
      "1482: ********* epoch: 16 ********* test accuracy:0.498282 test loss: 6.9767\n",
      "1569: accuracy:0.7 loss: 6.45089 (lr:0.003)\n",
      "1569: ********* epoch: 17 ********* test accuracy:0.522337 test loss: 6.90665\n",
      "1656: accuracy:0.7 loss: 6.62171 (lr:0.003)\n",
      "1656: ********* epoch: 18 ********* test accuracy:0.498282 test loss: 6.96708\n",
      "1743: accuracy:0.7 loss: 6.53042 (lr:0.003)\n",
      "1743: ********* epoch: 19 ********* test accuracy:0.498282 test loss: 6.98296\n",
      "1831: accuracy:0.7 loss: 6.15122 (lr:0.003)\n",
      "1831: ********* epoch: 20 ********* test accuracy:0.498282 test loss: 7.06028\n",
      "1918: accuracy:0.7 loss: 6.47362 (lr:0.003)\n",
      "1918: ********* epoch: 21 ********* test accuracy:0.498282 test loss: 6.96858\n",
      "1999: ********* epoch final ********* test accuracy:0.498282 test loss: 7.15277\n"
     ]
    }
   ],
   "source": [
    "try:\n",
    "    X=0\n",
    "    (X,Y) = im.ImageLoader(0, downsampling=True, colour='red', verticalEdge=False, horizontalEdge=True, canny=False, slic=False, sizeImage=400, dim=1, vectorx=False, vectory=False)\n",
    "    nn.NN5L(images = X, y=Y, percent_training=0.25, classes=2,w=400, h=400, dim=1, banchSize=10, iteration=2000)\n",
    "except:\n",
    "    print(\"Oops!\")"
   ]
  },
  {
   "cell_type": "code",
   "execution_count": 7,
   "metadata": {
    "collapsed": false,
    "deletable": true,
    "editable": true
   },
   "outputs": [
    {
     "name": "stdout",
     "output_type": "stream",
     "text": [
      "0: accuracy:0.7 loss: 6.89238 (lr:0.003)\n",
      "0: ********* epoch: -1 ********* test accuracy:0.498282 test loss: 6.93252\n",
      "87: accuracy:0.7 loss: 6.55326 (lr:0.003)\n",
      "87: ********* epoch: 0 ********* test accuracy:0.498282 test loss: 6.99496\n",
      "174: accuracy:0.7 loss: 6.56861 (lr:0.003)\n",
      "174: ********* epoch: 1 ********* test accuracy:0.498282 test loss: 6.98818\n",
      "261: accuracy:0.7 loss: 6.51718 (lr:0.003)\n",
      "261: ********* epoch: 2 ********* test accuracy:0.498282 test loss: 6.97516\n",
      "348: accuracy:0.7 loss: 5.42355 (lr:0.003)\n",
      "348: ********* epoch: 3 ********* test accuracy:0.5189 test loss: 7.07353\n",
      "435: accuracy:0.7 loss: 6.22268 (lr:0.003)\n",
      "435: ********* epoch: 4 ********* test accuracy:0.498282 test loss: 7.27916\n",
      "523: accuracy:0.7 loss: 6.48996 (lr:0.003)\n",
      "523: ********* epoch: 5 ********* test accuracy:0.498282 test loss: 7.02269\n",
      "610: accuracy:0.7 loss: 6.52615 (lr:0.003)\n",
      "610: ********* epoch: 6 ********* test accuracy:0.498282 test loss: 7.00569\n",
      "697: accuracy:0.7 loss: 6.53268 (lr:0.003)\n",
      "697: ********* epoch: 7 ********* test accuracy:0.498282 test loss: 7.00153\n",
      "784: accuracy:0.6 loss: 6.75222 (lr:0.003)\n",
      "784: ********* epoch: 8 ********* test accuracy:0.532646 test loss: 6.8365\n",
      "871: accuracy:1.0 loss: 2.59547 (lr:0.003)\n",
      "871: ********* epoch: 9 ********* test accuracy:0.56701 test loss: 7.93926\n",
      "959: accuracy:1.0 loss: 1.90547 (lr:0.003)\n",
      "959: ********* epoch: 10 ********* test accuracy:0.601375 test loss: 7.89008\n",
      "999: ********* epoch final ********* test accuracy:0.604811 test loss: 8.14888\n"
     ]
    }
   ],
   "source": [
    "try:\n",
    "    X=0\n",
    "    (X,Y) = im.ImageLoader(0, downsampling=True, colour='red', verticalEdge=False, horizontalEdge=True, canny=False, slic=False, sizeImage=200, dim=1, vectorx=False, vectory=False)\n",
    "    nn.NN5L(images = X, y=Y, percent_training=0.25, classes=2,w=200, h=200, dim=1, banchSize=10, iteration=1000)\n",
    "except:\n",
    "    print(\"Oops!\")"
   ]
  },
  {
   "cell_type": "code",
   "execution_count": 10,
   "metadata": {
    "collapsed": false,
    "deletable": true,
    "editable": true
   },
   "outputs": [
    {
     "name": "stdout",
     "output_type": "stream",
     "text": [
      "0: accuracy:0.3 loss: 7.22404 (lr:0.003)\n",
      "0: ********* epoch: -1 ********* test accuracy:0.501718 test loss: 6.95192\n",
      "87: accuracy:0.7 loss: 6.55912 (lr:0.003)\n",
      "87: ********* epoch: 0 ********* test accuracy:0.498282 test loss: 6.99284\n",
      "174: accuracy:0.7 loss: 6.57479 (lr:0.003)\n",
      "174: ********* epoch: 1 ********* test accuracy:0.498282 test loss: 6.98712\n",
      "261: accuracy:0.7 loss: 6.58383 (lr:0.003)\n",
      "261: ********* epoch: 2 ********* test accuracy:0.498282 test loss: 6.98399\n",
      "348: accuracy:0.7 loss: 6.59172 (lr:0.003)\n",
      "348: ********* epoch: 3 ********* test accuracy:0.498282 test loss: 6.98135\n",
      "435: accuracy:0.7 loss: 6.59885 (lr:0.003)\n",
      "435: ********* epoch: 4 ********* test accuracy:0.498282 test loss: 6.97905\n",
      "523: accuracy:0.7 loss: 6.58902 (lr:0.003)\n",
      "523: ********* epoch: 5 ********* test accuracy:0.498282 test loss: 6.98225\n",
      "610: accuracy:0.7 loss: 6.60576 (lr:0.003)\n",
      "610: ********* epoch: 6 ********* test accuracy:0.498282 test loss: 6.97689\n",
      "697: accuracy:0.7 loss: 6.61706 (lr:0.003)\n",
      "697: ********* epoch: 7 ********* test accuracy:0.498282 test loss: 6.97348\n",
      "784: accuracy:0.7 loss: 6.62187 (lr:0.003)\n",
      "784: ********* epoch: 8 ********* test accuracy:0.498282 test loss: 6.97209\n",
      "871: accuracy:0.7 loss: 6.62615 (lr:0.003)\n",
      "871: ********* epoch: 9 ********* test accuracy:0.498282 test loss: 6.97087\n",
      "959: accuracy:0.7 loss: 6.61613 (lr:0.003)\n",
      "959: ********* epoch: 10 ********* test accuracy:0.498282 test loss: 6.97376\n",
      "999: ********* epoch final ********* test accuracy:0.498282 test loss: 6.94363\n"
     ]
    }
   ],
   "source": [
    "try:\n",
    "    X=0\n",
    "    (X,Y) = im.ImageLoader(0, downsampling=True, colour='', verticalEdge=False, horizontalEdge=False, canny=False, slic=True, sizeImage=200, dim=3, vectorx=False, vectory=False)\n",
    "    nn.NN5L(images = X, y=Y, percent_training=0.25, classes=2,w=200, h=200, dim=3, banchSize=10, iteration=1000)\n",
    "except:\n",
    "    print(\"Oops!\")"
   ]
  },
  {
   "cell_type": "code",
   "execution_count": 3,
   "metadata": {
    "collapsed": false,
    "deletable": true,
    "editable": true
   },
   "outputs": [
    {
     "name": "stdout",
     "output_type": "stream",
     "text": [
      "0: accuracy:0.7 loss: 6.85553 (lr:0.003)\n",
      "0: ********* epoch: -1 ********* test accuracy:0.498282 test loss: 6.93379\n",
      "87: accuracy:0.7 loss: 6.55913 (lr:0.003)\n",
      "87: ********* epoch: 0 ********* test accuracy:0.498282 test loss: 6.99159\n",
      "174: accuracy:0.7 loss: 6.54948 (lr:0.003)\n",
      "174: ********* epoch: 1 ********* test accuracy:0.498282 test loss: 6.99314\n",
      "261: accuracy:0.7 loss: 6.21838 (lr:0.003)\n",
      "261: ********* epoch: 2 ********* test accuracy:0.498282 test loss: 6.93285\n",
      "348: accuracy:1.0 loss: 3.95862 (lr:0.003)\n",
      "348: ********* epoch: 3 ********* test accuracy:0.573883 test loss: 6.99508\n",
      "435: accuracy:1.0 loss: 2.17702 (lr:0.003)\n",
      "435: ********* epoch: 4 ********* test accuracy:0.56701 test loss: 7.46598\n",
      "523: accuracy:1.0 loss: 1.30096 (lr:0.003)\n",
      "523: ********* epoch: 5 ********* test accuracy:0.560137 test loss: 7.87718\n",
      "610: accuracy:1.0 loss: 0.958907 (lr:0.003)\n",
      "610: ********* epoch: 6 ********* test accuracy:0.494845 test loss: 9.52934\n",
      "697: accuracy:1.0 loss: 0.587271 (lr:0.003)\n",
      "697: ********* epoch: 7 ********* test accuracy:0.549828 test loss: 7.58486\n",
      "784: accuracy:1.0 loss: 0.450988 (lr:0.003)\n",
      "784: ********* epoch: 8 ********* test accuracy:0.556701 test loss: 8.79173\n",
      "871: accuracy:1.0 loss: 0.414923 (lr:0.003)\n",
      "871: ********* epoch: 9 ********* test accuracy:0.597938 test loss: 8.4725\n",
      "959: accuracy:1.0 loss: 0.344881 (lr:0.003)\n",
      "959: ********* epoch: 10 ********* test accuracy:0.508591 test loss: 13.0215\n",
      "999: ********* epoch final ********* test accuracy:0.553265 test loss: 8.11129\n"
     ]
    }
   ],
   "source": [
    "try:\n",
    "    X=0\n",
    "    (X,Y) = im.ImageLoader(0, downsampling=True, colour='', verticalEdge=False, horizontalEdge=False, canny=True, slic=False, sizeImage=400, dim=1, vectorx=False, vectory=False)\n",
    "    nn.NN5L(images = X, y=Y, percent_training=0.25, classes=2,w=400, h=400, dim=1, banchSize=10, iteration=1000)\n",
    "except:\n",
    "    print(\"Oops!\")"
   ]
  },
  {
   "cell_type": "code",
   "execution_count": 4,
   "metadata": {
    "collapsed": false,
    "deletable": true,
    "editable": true
   },
   "outputs": [
    {
     "name": "stdout",
     "output_type": "stream",
     "text": [
      "0: accuracy:0.3 loss: 7.14229 (lr:0.003)\n",
      "0: ********* epoch: -1 ********* test accuracy:0.501718 test loss: 6.94253\n",
      "87: accuracy:0.7 loss: 6.59573 (lr:0.003)\n",
      "87: ********* epoch: 0 ********* test accuracy:0.498282 test loss: 6.98\n",
      "174: accuracy:0.7 loss: 6.45439 (lr:0.003)\n",
      "174: ********* epoch: 1 ********* test accuracy:0.498282 test loss: 6.94101\n",
      "261: accuracy:1.0 loss: 2.91837 (lr:0.003)\n",
      "261: ********* epoch: 2 ********* test accuracy:0.621993 test loss: 6.68821\n",
      "348: accuracy:1.0 loss: 1.12602 (lr:0.003)\n",
      "348: ********* epoch: 3 ********* test accuracy:0.536082 test loss: 10.645\n",
      "435: accuracy:1.0 loss: 0.64757 (lr:0.003)\n",
      "435: ********* epoch: 4 ********* test accuracy:0.570447 test loss: 11.1984\n",
      "523: accuracy:1.0 loss: 0.477935 (lr:0.003)\n",
      "523: ********* epoch: 5 ********* test accuracy:0.536082 test loss: 13.0344\n",
      "610: accuracy:1.0 loss: 0.345184 (lr:0.003)\n",
      "610: ********* epoch: 6 ********* test accuracy:0.56701 test loss: 13.0041\n",
      "697: accuracy:1.0 loss: 0.258971 (lr:0.003)\n",
      "697: ********* epoch: 7 ********* test accuracy:0.656357 test loss: 9.7598\n",
      "784: accuracy:1.0 loss: 0.200862 (lr:0.003)\n",
      "784: ********* epoch: 8 ********* test accuracy:0.580756 test loss: 11.6528\n",
      "871: accuracy:1.0 loss: 0.161371 (lr:0.003)\n",
      "871: ********* epoch: 9 ********* test accuracy:0.618557 test loss: 12.6677\n",
      "959: accuracy:1.0 loss: 0.133094 (lr:0.003)\n",
      "959: ********* epoch: 10 ********* test accuracy:0.56701 test loss: 15.6124\n",
      "1046: accuracy:1.0 loss: 0.119526 (lr:0.003)\n",
      "1046: ********* epoch: 11 ********* test accuracy:0.62543 test loss: 13.1387\n",
      "1133: accuracy:1.0 loss: 0.108235 (lr:0.003)\n",
      "1133: ********* epoch: 12 ********* test accuracy:0.608247 test loss: 14.6177\n",
      "1220: accuracy:1.0 loss: 0.0956495 (lr:0.003)\n",
      "1220: ********* epoch: 13 ********* test accuracy:0.61512 test loss: 13.5947\n",
      "1307: accuracy:1.0 loss: 0.0857778 (lr:0.003)\n",
      "1307: ********* epoch: 14 ********* test accuracy:0.594502 test loss: 15.5627\n",
      "1395: accuracy:1.0 loss: 0.0763785 (lr:0.003)\n",
      "1395: ********* epoch: 15 ********* test accuracy:0.608247 test loss: 14.9449\n",
      "1482: accuracy:1.0 loss: 0.0680082 (lr:0.003)\n",
      "1482: ********* epoch: 16 ********* test accuracy:0.639175 test loss: 14.7451\n",
      "1569: accuracy:1.0 loss: 0.0593353 (lr:0.003)\n",
      "1569: ********* epoch: 17 ********* test accuracy:0.618557 test loss: 16.418\n",
      "1656: accuracy:1.0 loss: 0.0528979 (lr:0.003)\n",
      "1656: ********* epoch: 18 ********* test accuracy:0.618557 test loss: 15.4911\n",
      "1743: accuracy:1.0 loss: 0.0482251 (lr:0.003)\n",
      "1743: ********* epoch: 19 ********* test accuracy:0.594502 test loss: 16.4446\n",
      "1831: accuracy:1.0 loss: 0.0439152 (lr:0.003)\n",
      "1831: ********* epoch: 20 ********* test accuracy:0.608247 test loss: 15.9474\n",
      "1918: accuracy:1.0 loss: 0.0434531 (lr:0.003)\n",
      "1918: ********* epoch: 21 ********* test accuracy:0.560137 test loss: 21.6336\n",
      "1999: ********* epoch final ********* test accuracy:0.553265 test loss: 21.362\n"
     ]
    }
   ],
   "source": [
    "try:\n",
    "    X=0\n",
    "    (X,Y) = im.ImageLoader(0, downsampling=True, colour='', verticalEdge=False, horizontalEdge=False, canny=True, slic=False, sizeImage=200, dim=1, vectorx=False, vectory=False)\n",
    "    nn.NN5L(images = X, y=Y, percent_training=0.25, classes=2,w=200, h=200, dim=1, banchSize=10, iteration=2000)\n",
    "except:\n",
    "    print(\"Oops!\")"
   ]
  },
  {
   "cell_type": "code",
   "execution_count": 4,
   "metadata": {
    "collapsed": false,
    "deletable": true,
    "editable": true
   },
   "outputs": [
    {
     "name": "stdout",
     "output_type": "stream",
     "text": [
      "0: accuracy:0.7 loss: 6.91446 (lr:0.003)\n",
      "0: ********* epoch: -1 ********* test accuracy:0.498282 test loss: 6.93181\n",
      "87: accuracy:0.7 loss: 6.55521 (lr:0.003)\n",
      "87: ********* epoch: 0 ********* test accuracy:0.498282 test loss: 6.99401\n",
      "174: accuracy:0.7 loss: 6.51813 (lr:0.003)\n",
      "174: ********* epoch: 1 ********* test accuracy:0.498282 test loss: 6.97459\n",
      "261: accuracy:1.0 loss: 4.62743 (lr:0.003)\n",
      "261: ********* epoch: 2 ********* test accuracy:0.573883 test loss: 6.87522\n",
      "348: accuracy:1.0 loss: 1.86349 (lr:0.003)\n",
      "348: ********* epoch: 3 ********* test accuracy:0.573883 test loss: 7.68071\n",
      "435: accuracy:1.0 loss: 1.05846 (lr:0.003)\n",
      "435: ********* epoch: 4 ********* test accuracy:0.556701 test loss: 8.70669\n",
      "523: accuracy:1.0 loss: 0.790967 (lr:0.003)\n",
      "523: ********* epoch: 5 ********* test accuracy:0.505155 test loss: 12.329\n",
      "610: accuracy:1.0 loss: 0.551246 (lr:0.003)\n",
      "610: ********* epoch: 6 ********* test accuracy:0.546392 test loss: 9.18371\n",
      "697: accuracy:1.0 loss: 0.421102 (lr:0.003)\n",
      "697: ********* epoch: 7 ********* test accuracy:0.563574 test loss: 9.9454\n",
      "784: accuracy:1.0 loss: 0.330472 (lr:0.003)\n",
      "784: ********* epoch: 8 ********* test accuracy:0.587629 test loss: 10.5294\n",
      "871: accuracy:1.0 loss: 0.26427 (lr:0.003)\n",
      "871: ********* epoch: 9 ********* test accuracy:0.597938 test loss: 9.92694\n",
      "959: accuracy:1.0 loss: 0.219896 (lr:0.003)\n",
      "959: ********* epoch: 10 ********* test accuracy:0.591065 test loss: 11.9757\n",
      "999: ********* epoch final ********* test accuracy:0.560137 test loss: 13.2704\n"
     ]
    }
   ],
   "source": [
    "try:\n",
    "    X=0\n",
    "    (X,Y) = im.ImageLoader(0, downsampling=False, colour='red', verticalEdge=False, horizontalEdge=False, canny=True, slic=False, sizeImage=400, dim=1, vectorx=False, vectory=False)\n",
    "    nn.NN5L(images = X, y=Y, percent_training=0.25, classes=2,w=400, h=400, dim=1, banchSize=10, iteration=1000)\n",
    "except:\n",
    "    print(\"Oops!\")"
   ]
  },
  {
   "cell_type": "code",
   "execution_count": 5,
   "metadata": {
    "collapsed": false,
    "deletable": true,
    "editable": true
   },
   "outputs": [
    {
     "name": "stdout",
     "output_type": "stream",
     "text": [
      "0: accuracy:0.7 loss: 6.55414 (lr:0.003)\n",
      "0: ********* epoch: -1 ********* test accuracy:0.498282 test loss: 6.99277\n",
      "87: accuracy:0.7 loss: 6.57006 (lr:0.003)\n",
      "87: ********* epoch: 0 ********* test accuracy:0.498282 test loss: 6.98687\n",
      "174: accuracy:0.7 loss: 6.3578 (lr:0.003)\n",
      "174: ********* epoch: 1 ********* test accuracy:0.498282 test loss: 6.95014\n",
      "261: accuracy:1.0 loss: 3.08331 (lr:0.003)\n",
      "261: ********* epoch: 2 ********* test accuracy:0.597938 test loss: 6.71999\n",
      "348: accuracy:1.0 loss: 1.22436 (lr:0.003)\n",
      "348: ********* epoch: 3 ********* test accuracy:0.61512 test loss: 7.85551\n",
      "435: accuracy:1.0 loss: 0.702546 (lr:0.003)\n",
      "435: ********* epoch: 4 ********* test accuracy:0.573883 test loss: 8.87665\n",
      "523: accuracy:1.0 loss: 0.492842 (lr:0.003)\n",
      "523: ********* epoch: 5 ********* test accuracy:0.494845 test loss: 9.81745\n",
      "610: accuracy:1.0 loss: 0.386057 (lr:0.003)\n",
      "610: ********* epoch: 6 ********* test accuracy:0.594502 test loss: 10.919\n",
      "697: accuracy:1.0 loss: 0.294969 (lr:0.003)\n",
      "697: ********* epoch: 7 ********* test accuracy:0.597938 test loss: 10.7997\n",
      "784: accuracy:1.0 loss: 0.224099 (lr:0.003)\n",
      "784: ********* epoch: 8 ********* test accuracy:0.57732 test loss: 12.3568\n",
      "871: accuracy:1.0 loss: 0.182593 (lr:0.003)\n",
      "871: ********* epoch: 9 ********* test accuracy:0.580756 test loss: 13.2288\n",
      "959: accuracy:1.0 loss: 0.159233 (lr:0.003)\n",
      "959: ********* epoch: 10 ********* test accuracy:0.532646 test loss: 11.6197\n",
      "999: ********* epoch final ********* test accuracy:0.584192 test loss: 12.6314\n"
     ]
    }
   ],
   "source": [
    "try:\n",
    "    X=0\n",
    "    (X,Y) = im.ImageLoader(0, downsampling=False, colour='blue', verticalEdge=False, horizontalEdge=False, canny=True, slic=False, sizeImage=400, dim=1, vectorx=False, vectory=False)\n",
    "    nn.NN5L(images = X, y=Y, percent_training=0.25, classes=2,w=400, h=400, dim=1, banchSize=10, iteration=1000)\n",
    "except:\n",
    "    print(\"Oops!\")"
   ]
  },
  {
   "cell_type": "code",
   "execution_count": 9,
   "metadata": {
    "collapsed": false,
    "deletable": true,
    "editable": true
   },
   "outputs": [
    {
     "name": "stdout",
     "output_type": "stream",
     "text": [
      "0: accuracy:0.7 loss: 6.89932 (lr:0.003)\n",
      "0: ********* epoch: -1 ********* test accuracy:0.498282 test loss: 6.93202\n",
      "87: accuracy:0.7 loss: 6.57471 (lr:0.003)\n",
      "87: ********* epoch: 0 ********* test accuracy:0.498282 test loss: 6.98631\n",
      "174: accuracy:0.7 loss: 6.47071 (lr:0.003)\n",
      "174: ********* epoch: 1 ********* test accuracy:0.498282 test loss: 6.9681\n",
      "261: accuracy:1.0 loss: 3.61503 (lr:0.003)\n",
      "261: ********* epoch: 2 ********* test accuracy:0.573883 test loss: 7.07542\n",
      "348: accuracy:1.0 loss: 1.45545 (lr:0.003)\n",
      "348: ********* epoch: 3 ********* test accuracy:0.584192 test loss: 7.16177\n",
      "435: accuracy:1.0 loss: 0.924851 (lr:0.003)\n",
      "435: ********* epoch: 4 ********* test accuracy:0.573883 test loss: 8.35108\n",
      "523: accuracy:1.0 loss: 0.677093 (lr:0.003)\n",
      "523: ********* epoch: 5 ********* test accuracy:0.611684 test loss: 7.47596\n",
      "610: accuracy:1.0 loss: 0.512842 (lr:0.003)\n",
      "610: ********* epoch: 6 ********* test accuracy:0.573883 test loss: 8.45104\n",
      "697: accuracy:1.0 loss: 0.422744 (lr:0.003)\n",
      "697: ********* epoch: 7 ********* test accuracy:0.618557 test loss: 8.73682\n",
      "784: accuracy:1.0 loss: 0.326764 (lr:0.003)\n",
      "784: ********* epoch: 8 ********* test accuracy:0.597938 test loss: 9.40355\n",
      "871: accuracy:1.0 loss: 0.279337 (lr:0.003)\n",
      "871: ********* epoch: 9 ********* test accuracy:0.604811 test loss: 7.24631\n",
      "959: accuracy:1.0 loss: 0.238119 (lr:0.003)\n",
      "959: ********* epoch: 10 ********* test accuracy:0.594502 test loss: 9.18922\n",
      "999: ********* epoch final ********* test accuracy:0.591065 test loss: 9.85033\n"
     ]
    }
   ],
   "source": [
    "try:\n",
    "    X=0\n",
    "    (X,Y) = im.ImageLoader(0, downsampling=False, colour='green', verticalEdge=False, horizontalEdge=False, canny=True, slic=False, sizeImage=400, dim=1, vectorx=False, vectory=False)\n",
    "    nn.NN5L(images = X, y=Y, percent_training=0.25, classes=2,w=400, h=400, dim=1, banchSize=10, iteration=1000)\n",
    "except:\n",
    "    print(\"Oops!\")"
   ]
  }
 ],
 "metadata": {
  "kernelspec": {
   "display_name": "Python 2",
   "language": "python",
   "name": "python2"
  },
  "language_info": {
   "codemirror_mode": {
    "name": "ipython",
    "version": 2
   },
   "file_extension": ".py",
   "mimetype": "text/x-python",
   "name": "python",
   "nbconvert_exporter": "python",
   "pygments_lexer": "ipython2",
   "version": "2.7.12"
  }
 },
 "nbformat": 4,
 "nbformat_minor": 2
}
