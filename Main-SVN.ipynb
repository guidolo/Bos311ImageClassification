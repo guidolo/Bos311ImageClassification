{
 "cells": [
  {
   "cell_type": "markdown",
   "metadata": {},
   "source": [
    "# Eigenimages"
   ]
  },
  {
   "cell_type": "code",
   "execution_count": 7,
   "metadata": {},
   "outputs": [],
   "source": [
    "import sys\n",
    "\n",
    "sys.path.insert(0, './ImageProcessing/')\n",
    "import ImageProcessing as im\n",
    "\n",
    "sys.path.insert(0, './SVM Lab/')\n",
    "import SVM as svmlab\n"
   ]
  },
  {
   "cell_type": "markdown",
   "metadata": {},
   "source": [
    "Image with downsampling and verticalEdge, size 400, 150 components"
   ]
  },
  {
   "cell_type": "code",
   "execution_count": 8,
   "metadata": {},
   "outputs": [
    {
     "name": "stdout",
     "output_type": "stream",
     "text": [
      "('Numer of images of category y1', (550,))\n",
      "('Numer of images of category y2', (546,))\n",
      "('testing with:', (274,), 'images')\n",
      "Extracting the top 150 eigenfaces from 822 faces\n",
      "done in 17.396s\n",
      "Projecting the input data on the eigenfaces orthonormal basis\n",
      "done in 1.824s\n",
      "Fitting the classifier to the training set\n",
      "done in 13.856s\n",
      "Best estimator found by grid search:\n",
      "SVC(C=1000.0, cache_size=200, class_weight='balanced', coef0=0.0,\n",
      "  decision_function_shape='ovr', degree=3, gamma=0.01, kernel='rbf',\n",
      "  max_iter=-1, probability=False, random_state=None, shrinking=True,\n",
      "  tol=0.001, verbose=False)\n",
      "Predicting people's names on the test set\n",
      "done in 0.039s\n",
      "             precision    recall  f1-score   support\n",
      "\n",
      "      trash       0.73      0.57      0.64       141\n",
      "    grafiti       0.63      0.77      0.70       133\n",
      "\n",
      "avg / total       0.68      0.67      0.67       274\n",
      "\n",
      "[[ 81  60]\n",
      " [ 30 103]]\n"
     ]
    }
   ],
   "source": [
    "X=0\n",
    "(X,Y) = im.ImageLoader(0, \n",
    "                       downsampling=True, \n",
    "                       colour='', \n",
    "                       verticalEdge=False, \n",
    "                       horizontalEdge=False, \n",
    "                       canny=False, \n",
    "                       slic=False, \n",
    "                       sizeImage=200, \n",
    "                       dim=3,vectorx=True, vectory=True)\n",
    "svmlab.performSVM(X,Y,150, 0.25, 2, 200,200)"
   ]
  },
  {
   "cell_type": "code",
   "execution_count": 9,
   "metadata": {},
   "outputs": [
    {
     "name": "stdout",
     "output_type": "stream",
     "text": [
      "('Numer of images of category y1', (550,))\n",
      "('Numer of images of category y2', (546,))\n",
      "('testing with:', (274,), 'images')\n",
      "Extracting the top 150 eigenfaces from 822 faces\n",
      "done in 29.427s\n",
      "Projecting the input data on the eigenfaces orthonormal basis\n",
      "done in 4.631s\n",
      "Fitting the classifier to the training set\n",
      "done in 14.238s\n",
      "Best estimator found by grid search:\n",
      "SVC(C=5000.0, cache_size=200, class_weight='balanced', coef0=0.0,\n",
      "  decision_function_shape='ovr', degree=3, gamma=0.0001, kernel='rbf',\n",
      "  max_iter=-1, probability=False, random_state=None, shrinking=True,\n",
      "  tol=0.001, verbose=False)\n",
      "Predicting people's names on the test set\n",
      "done in 0.028s\n",
      "             precision    recall  f1-score   support\n",
      "\n",
      "      trash       0.80      0.61      0.69       141\n",
      "    grafiti       0.67      0.83      0.74       133\n",
      "\n",
      "avg / total       0.73      0.72      0.72       274\n",
      "\n",
      "[[ 86  55]\n",
      " [ 22 111]]\n"
     ]
    }
   ],
   "source": [
    "X=0\n",
    "(X,Y) = im.ImageLoader(0, downsampling=True, colour='red', verticalEdge=False, horizontalEdge=False, canny=False, slic=False, sizeImage=400, dim=1,vectorx=True, vectory=True)\n",
    "svmlab.performSVM(X,Y,150, 0.25, 2, 400,400)"
   ]
  },
  {
   "cell_type": "code",
   "execution_count": 10,
   "metadata": {},
   "outputs": [
    {
     "name": "stdout",
     "output_type": "stream",
     "text": [
      "('Numer of images of category y1', (550,))\n",
      "('Numer of images of category y2', (546,))\n",
      "('testing with:', (274,), 'images')\n",
      "Extracting the top 150 eigenfaces from 822 faces\n",
      "done in 23.180s\n",
      "Projecting the input data on the eigenfaces orthonormal basis\n",
      "done in 3.694s\n",
      "Fitting the classifier to the training set\n",
      "done in 13.160s\n",
      "Best estimator found by grid search:\n",
      "SVC(C=1000.0, cache_size=200, class_weight='balanced', coef0=0.0,\n",
      "  decision_function_shape='ovr', degree=3, gamma=0.01, kernel='rbf',\n",
      "  max_iter=-1, probability=False, random_state=None, shrinking=True,\n",
      "  tol=0.001, verbose=False)\n",
      "Predicting people's names on the test set\n",
      "done in 0.035s\n",
      "             precision    recall  f1-score   support\n",
      "\n",
      "      trash       0.69      0.59      0.64       141\n",
      "    grafiti       0.62      0.72      0.67       133\n",
      "\n",
      "avg / total       0.66      0.65      0.65       274\n",
      "\n",
      "[[83 58]\n",
      " [37 96]]\n"
     ]
    }
   ],
   "source": [
    "X=0\n",
    "(X,Y) = im.ImageLoader(0, downsampling=True, colour='blue', verticalEdge=False, horizontalEdge=False, canny=False, slic=False, sizeImage=400, dim=1,vectorx=True, vectory=True)\n",
    "svmlab.performSVM(X,Y,150, 0.25, 2, 400,400)"
   ]
  },
  {
   "cell_type": "code",
   "execution_count": 11,
   "metadata": {},
   "outputs": [
    {
     "name": "stdout",
     "output_type": "stream",
     "text": [
      "('Numer of images of category y1', (550,))\n",
      "('Numer of images of category y2', (546,))\n",
      "('testing with:', (274,), 'images')\n",
      "Extracting the top 150 eigenfaces from 822 faces\n",
      "done in 22.922s\n",
      "Projecting the input data on the eigenfaces orthonormal basis\n",
      "done in 4.737s\n",
      "Fitting the classifier to the training set\n",
      "done in 13.925s\n",
      "Best estimator found by grid search:\n",
      "SVC(C=5000.0, cache_size=200, class_weight='balanced', coef0=0.0,\n",
      "  decision_function_shape='ovr', degree=3, gamma=0.0001, kernel='rbf',\n",
      "  max_iter=-1, probability=False, random_state=None, shrinking=True,\n",
      "  tol=0.001, verbose=False)\n",
      "Predicting people's names on the test set\n",
      "done in 0.028s\n",
      "             precision    recall  f1-score   support\n",
      "\n",
      "      trash       0.80      0.62      0.70       141\n",
      "    grafiti       0.67      0.83      0.74       133\n",
      "\n",
      "avg / total       0.74      0.72      0.72       274\n",
      "\n",
      "[[ 87  54]\n",
      " [ 22 111]]\n"
     ]
    }
   ],
   "source": [
    "X=0\n",
    "(X,Y) = im.ImageLoader(0, downsampling=True, colour='green', verticalEdge=False, horizontalEdge=False, canny=False, slic=False, sizeImage=400, dim=1,vectorx=True, vectory=True)\n",
    "svmlab.performSVM(X,Y,150, 0.25, 2, 400,400)"
   ]
  },
  {
   "cell_type": "code",
   "execution_count": 12,
   "metadata": {},
   "outputs": [
    {
     "name": "stdout",
     "output_type": "stream",
     "text": [
      "('Numer of images of category y1', (550,))\n",
      "('Numer of images of category y2', (546,))\n",
      "('testing with:', (274,), 'images')\n",
      "Extracting the top 150 eigenfaces from 822 faces\n",
      "done in 22.088s\n",
      "Projecting the input data on the eigenfaces orthonormal basis\n",
      "done in 4.032s\n",
      "Fitting the classifier to the training set\n",
      "done in 14.088s\n",
      "Best estimator found by grid search:\n",
      "SVC(C=5000.0, cache_size=200, class_weight='balanced', coef0=0.0,\n",
      "  decision_function_shape='ovr', degree=3, gamma=0.001, kernel='rbf',\n",
      "  max_iter=-1, probability=False, random_state=None, shrinking=True,\n",
      "  tol=0.001, verbose=False)\n",
      "Predicting people's names on the test set\n",
      "done in 0.021s\n",
      "             precision    recall  f1-score   support\n",
      "\n",
      "      trash       0.62      0.51      0.56       141\n",
      "    grafiti       0.56      0.66      0.61       133\n",
      "\n",
      "avg / total       0.59      0.58      0.58       274\n",
      "\n",
      "[[72 69]\n",
      " [45 88]]\n"
     ]
    }
   ],
   "source": [
    "X=0\n",
    "(X,Y) = im.ImageLoader(0, downsampling=True, colour='red', verticalEdge=True, horizontalEdge=False, canny=False, slic=False, sizeImage=400, dim=1,vectorx=True, vectory=True)\n",
    "svmlab.performSVM(X,Y,150, 0.25, 2, 400,400)"
   ]
  },
  {
   "cell_type": "code",
   "execution_count": 14,
   "metadata": {},
   "outputs": [
    {
     "name": "stdout",
     "output_type": "stream",
     "text": [
      "('Numer of images of category y1', (550,))\n",
      "('Numer of images of category y2', (546,))\n",
      "('testing with:', (274,), 'images')\n",
      "Extracting the top 150 eigenfaces from 822 faces\n",
      "done in 4.223s\n",
      "Projecting the input data on the eigenfaces orthonormal basis\n",
      "done in 0.488s\n",
      "Fitting the classifier to the training set\n",
      "done in 14.866s\n",
      "Best estimator found by grid search:\n",
      "SVC(C=5000.0, cache_size=200, class_weight='balanced', coef0=0.0,\n",
      "  decision_function_shape='ovr', degree=3, gamma=0.001, kernel='rbf',\n",
      "  max_iter=-1, probability=False, random_state=None, shrinking=True,\n",
      "  tol=0.001, verbose=False)\n",
      "Predicting people's names on the test set\n",
      "done in 0.021s\n",
      "             precision    recall  f1-score   support\n",
      "\n",
      "      trash       0.63      0.49      0.55       141\n",
      "    grafiti       0.56      0.70      0.62       133\n",
      "\n",
      "avg / total       0.60      0.59      0.59       274\n",
      "\n",
      "[[69 72]\n",
      " [40 93]]\n"
     ]
    }
   ],
   "source": [
    "X=0\n",
    "(X,Y) = im.ImageLoader(0, downsampling=True, colour='red', verticalEdge=True, horizontalEdge=False, canny=False, slic=False, sizeImage=200, dim=1,  vectorx=True, vectory=True)\n",
    "svmlab.performSVM(X,Y,150, 0.25, 2, 200,200)"
   ]
  },
  {
   "cell_type": "code",
   "execution_count": 15,
   "metadata": {},
   "outputs": [
    {
     "data": {
      "text/plain": [
       "(1096, 40000)"
      ]
     },
     "execution_count": 15,
     "metadata": {},
     "output_type": "execute_result"
    }
   ],
   "source": [
    "X.shape"
   ]
  },
  {
   "cell_type": "code",
   "execution_count": 16,
   "metadata": {},
   "outputs": [
    {
     "name": "stdout",
     "output_type": "stream",
     "text": [
      "('Numer of images of category y1', (550,))\n",
      "('Numer of images of category y2', (546,))\n",
      "('testing with:', (274,), 'images')\n",
      "Extracting the top 150 eigenfaces from 822 faces\n",
      "done in 54.997s\n",
      "Projecting the input data on the eigenfaces orthonormal basis\n",
      "done in 6.263s\n",
      "Fitting the classifier to the training set\n",
      "done in 19.301s\n",
      "Best estimator found by grid search:\n",
      "SVC(C=1000.0, cache_size=200, class_weight='balanced', coef0=0.0,\n",
      "  decision_function_shape='ovr', degree=3, gamma=0.1, kernel='rbf',\n",
      "  max_iter=-1, probability=False, random_state=None, shrinking=True,\n",
      "  tol=0.001, verbose=False)\n",
      "Predicting people's names on the test set\n",
      "done in 0.041s\n",
      "             precision    recall  f1-score   support\n",
      "\n",
      "      trash       0.65      0.77      0.70       141\n",
      "    grafiti       0.69      0.56      0.62       133\n",
      "\n",
      "avg / total       0.67      0.66      0.66       274\n",
      "\n",
      "[[108  33]\n",
      " [ 59  74]]\n"
     ]
    }
   ],
   "source": [
    "X=0\n",
    "(X,Y) = im.ImageLoader(0, downsampling=True, colour='red', verticalEdge=False, horizontalEdge=True, canny=False, slic=False, sizeImage=400, dim=1,vectorx=True, vectory=True)\n",
    "svmlab.performSVM(X,Y,150, 0.25, 2, 400,400)"
   ]
  },
  {
   "cell_type": "code",
   "execution_count": 18,
   "metadata": {},
   "outputs": [
    {
     "name": "stdout",
     "output_type": "stream",
     "text": [
      "('Numer of images of category y1', (550,))\n",
      "('Numer of images of category y2', (546,))\n",
      "('testing with:', (274,), 'images')\n",
      "Extracting the top 150 eigenfaces from 822 faces\n",
      "done in 3.855s\n",
      "Projecting the input data on the eigenfaces orthonormal basis\n",
      "done in 0.448s\n",
      "Fitting the classifier to the training set\n",
      "done in 15.681s\n",
      "Best estimator found by grid search:\n",
      "SVC(C=1000.0, cache_size=200, class_weight='balanced', coef0=0.0,\n",
      "  decision_function_shape='ovr', degree=3, gamma=0.1, kernel='rbf',\n",
      "  max_iter=-1, probability=False, random_state=None, shrinking=True,\n",
      "  tol=0.001, verbose=False)\n",
      "Predicting people's names on the test set\n",
      "done in 0.037s\n",
      "             precision    recall  f1-score   support\n",
      "\n",
      "      trash       0.63      0.76      0.69       141\n",
      "    grafiti       0.68      0.53      0.60       133\n",
      "\n",
      "avg / total       0.65      0.65      0.64       274\n",
      "\n",
      "[[107  34]\n",
      " [ 62  71]]\n"
     ]
    }
   ],
   "source": [
    "X=0\n",
    "(X,Y) = im.ImageLoader(0, downsampling=True, colour='red', verticalEdge=False, horizontalEdge=True, canny=False, slic=False, sizeImage=200, dim=1,  vectorx=True, vectory=True)\n",
    "svmlab.performSVM(X,Y,150, 0.25, 2, 200,200)"
   ]
  },
  {
   "cell_type": "code",
   "execution_count": 19,
   "metadata": {},
   "outputs": [
    {
     "name": "stdout",
     "output_type": "stream",
     "text": [
      "('Numer of images of category y1', (550,))\n",
      "('Numer of images of category y2', (546,))\n",
      "('testing with:', (274,), 'images')\n",
      "Extracting the top 150 eigenfaces from 822 faces\n",
      "done in 22.785s\n",
      "Projecting the input data on the eigenfaces orthonormal basis\n",
      "done in 4.004s\n",
      "Fitting the classifier to the training set\n",
      "done in 13.980s\n",
      "Best estimator found by grid search:\n",
      "SVC(C=1000.0, cache_size=200, class_weight='balanced', coef0=0.0,\n",
      "  decision_function_shape='ovr', degree=3, gamma=0.01, kernel='rbf',\n",
      "  max_iter=-1, probability=False, random_state=None, shrinking=True,\n",
      "  tol=0.001, verbose=False)\n",
      "Predicting people's names on the test set\n",
      "done in 0.036s\n",
      "             precision    recall  f1-score   support\n",
      "\n",
      "      trash       0.73      0.57      0.64       141\n",
      "    grafiti       0.63      0.77      0.69       133\n",
      "\n",
      "avg / total       0.68      0.67      0.66       274\n",
      "\n",
      "[[ 80  61]\n",
      " [ 30 103]]\n"
     ]
    }
   ],
   "source": [
    "X=0\n",
    "(X,Y) = im.ImageLoader(0, downsampling=True, colour='', verticalEdge=False, horizontalEdge=False, canny=False, slic=False, sizeImage=200, dim=3,vectorx=True, vectory=True)\n",
    "svmlab.performSVM(X,Y,150, 0.25, 2, 200,200)"
   ]
  },
  {
   "cell_type": "code",
   "execution_count": 20,
   "metadata": {},
   "outputs": [
    {
     "name": "stdout",
     "output_type": "stream",
     "text": [
      "('Numer of images of category y1', (550,))\n",
      "('Numer of images of category y2', (546,))\n",
      "('testing with:', (274,), 'images')\n",
      "Extracting the top 150 eigenfaces from 822 faces\n",
      "done in 14.690s\n",
      "Projecting the input data on the eigenfaces orthonormal basis\n",
      "done in 2.972s\n",
      "Fitting the classifier to the training set\n",
      "done in 12.768s\n",
      "Best estimator found by grid search:\n",
      "SVC(C=5000.0, cache_size=200, class_weight='balanced', coef0=0.0,\n",
      "  decision_function_shape='ovr', degree=3, gamma=0.0001, kernel='rbf',\n",
      "  max_iter=-1, probability=False, random_state=None, shrinking=True,\n",
      "  tol=0.001, verbose=False)\n",
      "Predicting people's names on the test set\n",
      "done in 0.026s\n",
      "             precision    recall  f1-score   support\n",
      "\n",
      "      trash       0.71      0.70      0.70       141\n",
      "    grafiti       0.68      0.69      0.69       133\n",
      "\n",
      "avg / total       0.69      0.69      0.69       274\n",
      "\n",
      "[[98 43]\n",
      " [41 92]]\n"
     ]
    }
   ],
   "source": [
    "X=0\n",
    "(X,Y) = im.ImageLoader(0, downsampling=True, colour='', verticalEdge=False, horizontalEdge=False, canny=False, slic=True, sizeImage=200, dim=3,vectorx=True, vectory=True)\n",
    "svmlab.performSVM(X,Y,150, 0.25, 2, 200,200)"
   ]
  },
  {
   "cell_type": "code",
   "execution_count": 21,
   "metadata": {},
   "outputs": [
    {
     "name": "stdout",
     "output_type": "stream",
     "text": [
      "('Numer of images of category y1', (550,))\n",
      "('Numer of images of category y2', (546,))\n",
      "('testing with:', (274,), 'images')\n",
      "Extracting the top 150 eigenfaces from 822 faces\n",
      "done in 20.388s\n",
      "Projecting the input data on the eigenfaces orthonormal basis\n",
      "done in 2.535s\n",
      "Fitting the classifier to the training set\n",
      "done in 14.280s\n",
      "Best estimator found by grid search:\n",
      "SVC(C=1000.0, cache_size=200, class_weight='balanced', coef0=0.0,\n",
      "  decision_function_shape='ovr', degree=3, gamma=0.1, kernel='rbf',\n",
      "  max_iter=-1, probability=False, random_state=None, shrinking=True,\n",
      "  tol=0.001, verbose=False)\n",
      "Predicting people's names on the test set\n",
      "done in 0.036s\n",
      "             precision    recall  f1-score   support\n",
      "\n",
      "      trash       0.66      0.45      0.53       141\n",
      "    grafiti       0.56      0.76      0.65       133\n",
      "\n",
      "avg / total       0.62      0.60      0.59       274\n",
      "\n",
      "[[ 63  78]\n",
      " [ 32 101]]\n"
     ]
    }
   ],
   "source": [
    "X=0\n",
    "(X,Y) = im.ImageLoader(0, downsampling=True, colour='', verticalEdge=False, horizontalEdge=False, canny=True, slic=False, sizeImage=400, dim=1,vectorx=True, vectory=True)\n",
    "svmlab.performSVM(X,Y,150, 0.25, 2, 400,400)"
   ]
  },
  {
   "cell_type": "code",
   "execution_count": 22,
   "metadata": {},
   "outputs": [
    {
     "name": "stdout",
     "output_type": "stream",
     "text": [
      "('Numer of images of category y1', (550,))\n",
      "('Numer of images of category y2', (546,))\n",
      "('testing with:', (274,), 'images')\n",
      "Extracting the top 150 eigenfaces from 822 faces\n",
      "done in 19.955s\n",
      "Projecting the input data on the eigenfaces orthonormal basis\n",
      "done in 2.450s\n",
      "Fitting the classifier to the training set\n",
      "done in 16.570s\n",
      "Best estimator found by grid search:\n",
      "SVC(C=1000.0, cache_size=200, class_weight='balanced', coef0=0.0,\n",
      "  decision_function_shape='ovr', degree=3, gamma=0.1, kernel='rbf',\n",
      "  max_iter=-1, probability=False, random_state=None, shrinking=True,\n",
      "  tol=0.001, verbose=False)\n",
      "Predicting people's names on the test set\n",
      "done in 0.036s\n",
      "             precision    recall  f1-score   support\n",
      "\n",
      "      trash       0.54      0.58      0.56       141\n",
      "    grafiti       0.52      0.47      0.49       133\n",
      "\n",
      "avg / total       0.53      0.53      0.53       274\n",
      "\n",
      "[[82 59]\n",
      " [70 63]]\n"
     ]
    }
   ],
   "source": [
    "X=0\n",
    "(X,Y) = im.ImageLoader(0, downsampling=False, colour='red', verticalEdge=False, horizontalEdge=False, canny=True, slic=False, sizeImage=400, dim=1,vectorx=True, vectory=True)\n",
    "svmlab.performSVM(X,Y,150, 0.25, 2, 400,400)"
   ]
  },
  {
   "cell_type": "code",
   "execution_count": 23,
   "metadata": {},
   "outputs": [
    {
     "name": "stdout",
     "output_type": "stream",
     "text": [
      "('Numer of images of category y1', (550,))\n",
      "('Numer of images of category y2', (546,))\n",
      "('testing with:', (274,), 'images')\n",
      "Extracting the top 150 eigenfaces from 822 faces\n",
      "done in 25.973s\n",
      "Projecting the input data on the eigenfaces orthonormal basis\n",
      "done in 3.052s\n",
      "Fitting the classifier to the training set\n",
      "done in 19.402s\n",
      "Best estimator found by grid search:\n",
      "SVC(C=5000.0, cache_size=200, class_weight='balanced', coef0=0.0,\n",
      "  decision_function_shape='ovr', degree=3, gamma=0.1, kernel='rbf',\n",
      "  max_iter=-1, probability=False, random_state=None, shrinking=True,\n",
      "  tol=0.001, verbose=False)\n",
      "Predicting people's names on the test set\n",
      "done in 0.034s\n",
      "             precision    recall  f1-score   support\n",
      "\n",
      "      trash       0.61      0.52      0.56       141\n",
      "    grafiti       0.56      0.64      0.60       133\n",
      "\n",
      "avg / total       0.58      0.58      0.58       274\n",
      "\n",
      "[[74 67]\n",
      " [48 85]]\n"
     ]
    }
   ],
   "source": [
    "X=0\n",
    "(X,Y) = im.ImageLoader(0, downsampling=False, colour='blue', verticalEdge=False, horizontalEdge=False, canny=True, slic=False, sizeImage=400, dim=1,vectorx=True, vectory=True)\n",
    "svmlab.performSVM(X,Y,150, 0.25, 2, 400,400)"
   ]
  },
  {
   "cell_type": "code",
   "execution_count": 24,
   "metadata": {},
   "outputs": [
    {
     "name": "stdout",
     "output_type": "stream",
     "text": [
      "('Numer of images of category y1', (550,))\n",
      "('Numer of images of category y2', (546,))\n",
      "('testing with:', (274,), 'images')\n",
      "Extracting the top 150 eigenfaces from 822 faces\n",
      "done in 21.474s\n",
      "Projecting the input data on the eigenfaces orthonormal basis\n",
      "done in 2.530s\n",
      "Fitting the classifier to the training set\n",
      "done in 18.057s\n",
      "Best estimator found by grid search:\n",
      "SVC(C=100000.0, cache_size=200, class_weight='balanced', coef0=0.0,\n",
      "  decision_function_shape='ovr', degree=3, gamma=0.0005, kernel='rbf',\n",
      "  max_iter=-1, probability=False, random_state=None, shrinking=True,\n",
      "  tol=0.001, verbose=False)\n",
      "Predicting people's names on the test set\n",
      "done in 0.026s\n",
      "             precision    recall  f1-score   support\n",
      "\n",
      "      trash       0.60      0.70      0.65       141\n",
      "    grafiti       0.62      0.51      0.56       133\n",
      "\n",
      "avg / total       0.61      0.61      0.61       274\n",
      "\n",
      "[[99 42]\n",
      " [65 68]]\n"
     ]
    }
   ],
   "source": [
    "X=0\n",
    "(X,Y) = im.ImageLoader(0, downsampling=False, colour='green', verticalEdge=False, horizontalEdge=False, canny=True, slic=False, sizeImage=400, dim=1,vectorx=True, vectory=True)\n",
    "svmlab.performSVM(X,Y,150, 0.25, 2, 400,400)"
   ]
  },
  {
   "cell_type": "code",
   "execution_count": null,
   "metadata": {},
   "outputs": [],
   "source": []
  }
 ],
 "metadata": {
  "kernelspec": {
   "display_name": "Python 2",
   "language": "python",
   "name": "python2"
  },
  "language_info": {
   "codemirror_mode": {
    "name": "ipython",
    "version": 2
   },
   "file_extension": ".py",
   "mimetype": "text/x-python",
   "name": "python",
   "nbconvert_exporter": "python",
   "pygments_lexer": "ipython2",
   "version": "2.7.14"
  }
 },
 "nbformat": 4,
 "nbformat_minor": 2
}
