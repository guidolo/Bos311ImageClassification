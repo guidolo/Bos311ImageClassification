{
 "cells": [
  {
   "cell_type": "code",
   "execution_count": 3,
   "metadata": {
    "collapsed": true,
    "deletable": true,
    "editable": true
   },
   "outputs": [],
   "source": [
    "import sys\n",
    "\n",
    "sys.path.insert(0, '/home/guido/NEU/DA 5030 Introduction to Data MiningMachine Learning/FinalProject/Laboratory/ImageProcessing/')\n",
    "import ImageProcessing as im\n",
    "\n",
    "sys.path.insert(0, '/home/guido/NEU/DA 5030 Introduction to Data MiningMachine Learning/FinalProject/Laboratory/SVM Lab/')\n",
    "import SVM as svmlab\n"
   ]
  },
  {
   "cell_type": "markdown",
   "metadata": {
    "deletable": true,
    "editable": true
   },
   "source": [
    "Image with downsampling and verticalEdge, size 400, 150 components"
   ]
  },
  {
   "cell_type": "code",
   "execution_count": 5,
   "metadata": {
    "collapsed": false,
    "deletable": true,
    "editable": true
   },
   "outputs": [
    {
     "name": "stdout",
     "output_type": "stream",
     "text": [
      "('Numer of images of category y1', (557,))\n",
      "('Numer of images of category y2', (606,))\n",
      "('testing with:', (291,), 'images')\n",
      "Extracting the top 150 eigenfaces from 872 faces\n",
      "done in 24.441s\n",
      "Projecting the input data on the eigenfaces orthonormal basis\n",
      "done in 2.827s\n",
      "Fitting the classifier to the training set\n",
      "done in 17.921s\n",
      "Best estimator found by grid search:\n",
      "SVC(C=5000.0, cache_size=200, class_weight='balanced', coef0=0.0,\n",
      "  decision_function_shape=None, degree=3, gamma=0.0001, kernel='rbf',\n",
      "  max_iter=-1, probability=False, random_state=None, shrinking=True,\n",
      "  tol=0.001, verbose=False)\n",
      "Predicting people's names on the test set\n",
      "done in 0.057s\n",
      "             precision    recall  f1-score   support\n",
      "\n",
      "      trash       0.79      0.53      0.63       146\n",
      "    grafiti       0.64      0.86      0.74       145\n",
      "\n",
      "avg / total       0.72      0.69      0.69       291\n",
      "\n",
      "[[ 77  69]\n",
      " [ 20 125]]\n"
     ]
    }
   ],
   "source": [
    "X=0\n",
    "(X,Y) = im.ImageLoader(0, downsampling=True, colour='', verticalEdge=False, horizontalEdge=False, canny=False, slic=False, sizeImage=200, dim=3)\n",
    "svmlab.performSVM(X,Y,150, 0.25, 2, 200,200)"
   ]
  },
  {
   "cell_type": "code",
   "execution_count": 6,
   "metadata": {
    "collapsed": false,
    "deletable": true,
    "editable": true
   },
   "outputs": [
    {
     "name": "stdout",
     "output_type": "stream",
     "text": [
      "('Numer of images of category y1', (557,))\n",
      "('Numer of images of category y2', (606,))\n",
      "('testing with:', (291,), 'images')\n",
      "Extracting the top 150 eigenfaces from 872 faces\n",
      "done in 40.679s\n",
      "Projecting the input data on the eigenfaces orthonormal basis\n",
      "done in 4.632s\n",
      "Fitting the classifier to the training set\n",
      "done in 17.835s\n",
      "Best estimator found by grid search:\n",
      "SVC(C=1000.0, cache_size=200, class_weight='balanced', coef0=0.0,\n",
      "  decision_function_shape=None, degree=3, gamma=0.0001, kernel='rbf',\n",
      "  max_iter=-1, probability=False, random_state=None, shrinking=True,\n",
      "  tol=0.001, verbose=False)\n",
      "Predicting people's names on the test set\n",
      "done in 0.033s\n",
      "             precision    recall  f1-score   support\n",
      "\n",
      "      trash       0.70      0.53      0.60       146\n",
      "    grafiti       0.62      0.77      0.69       145\n",
      "\n",
      "avg / total       0.66      0.65      0.64       291\n",
      "\n",
      "[[ 77  69]\n",
      " [ 33 112]]\n"
     ]
    }
   ],
   "source": [
    "X=0\n",
    "(X,Y) = im.ImageLoader(0, downsampling=True, colour='red', verticalEdge=False, horizontalEdge=False, canny=False, slic=False, sizeImage=400, dim=1)\n",
    "svmlab.performSVM(X,Y,150, 0.25, 2, 400,400)"
   ]
  },
  {
   "cell_type": "code",
   "execution_count": 7,
   "metadata": {
    "collapsed": false,
    "deletable": true,
    "editable": true
   },
   "outputs": [
    {
     "name": "stdout",
     "output_type": "stream",
     "text": [
      "('Numer of images of category y1', (557,))\n",
      "('Numer of images of category y2', (606,))\n",
      "('testing with:', (291,), 'images')\n",
      "Extracting the top 150 eigenfaces from 872 faces\n",
      "done in 34.435s\n",
      "Projecting the input data on the eigenfaces orthonormal basis\n",
      "done in 3.590s\n",
      "Fitting the classifier to the training set\n",
      "done in 17.931s\n",
      "Best estimator found by grid search:\n",
      "SVC(C=10000.0, cache_size=200, class_weight='balanced', coef0=0.0,\n",
      "  decision_function_shape=None, degree=3, gamma=0.0001, kernel='rbf',\n",
      "  max_iter=-1, probability=False, random_state=None, shrinking=True,\n",
      "  tol=0.001, verbose=False)\n",
      "Predicting people's names on the test set\n",
      "done in 0.037s\n",
      "             precision    recall  f1-score   support\n",
      "\n",
      "      trash       0.75      0.53      0.62       146\n",
      "    grafiti       0.63      0.82      0.71       145\n",
      "\n",
      "avg / total       0.69      0.67      0.67       291\n",
      "\n",
      "[[ 77  69]\n",
      " [ 26 119]]\n"
     ]
    }
   ],
   "source": [
    "X=0\n",
    "(X,Y) = im.ImageLoader(0, downsampling=True, colour='blue', verticalEdge=False, horizontalEdge=False, canny=False, slic=False, sizeImage=400, dim=1)\n",
    "svmlab.performSVM(X,Y,150, 0.25, 2, 400,400)"
   ]
  },
  {
   "cell_type": "code",
   "execution_count": 8,
   "metadata": {
    "collapsed": false,
    "deletable": true,
    "editable": true
   },
   "outputs": [
    {
     "name": "stdout",
     "output_type": "stream",
     "text": [
      "('Numer of images of category y1', (557,))\n",
      "('Numer of images of category y2', (606,))\n",
      "('testing with:', (291,), 'images')\n",
      "Extracting the top 150 eigenfaces from 872 faces\n",
      "done in 32.220s\n",
      "Projecting the input data on the eigenfaces orthonormal basis\n",
      "done in 3.352s\n",
      "Fitting the classifier to the training set\n",
      "done in 18.328s\n",
      "Best estimator found by grid search:\n",
      "SVC(C=5000.0, cache_size=200, class_weight='balanced', coef0=0.0,\n",
      "  decision_function_shape=None, degree=3, gamma=0.0001, kernel='rbf',\n",
      "  max_iter=-1, probability=False, random_state=None, shrinking=True,\n",
      "  tol=0.001, verbose=False)\n",
      "Predicting people's names on the test set\n",
      "done in 0.036s\n",
      "             precision    recall  f1-score   support\n",
      "\n",
      "      trash       0.78      0.55      0.65       146\n",
      "    grafiti       0.65      0.85      0.74       145\n",
      "\n",
      "avg / total       0.72      0.70      0.69       291\n",
      "\n",
      "[[ 80  66]\n",
      " [ 22 123]]\n"
     ]
    }
   ],
   "source": [
    "X=0\n",
    "(X,Y) = im.ImageLoader(0, downsampling=True, colour='green', verticalEdge=False, horizontalEdge=False, canny=False, slic=False, sizeImage=400, dim=1)\n",
    "svmlab.performSVM(X,Y,150, 0.25, 2, 400,400)"
   ]
  },
  {
   "cell_type": "code",
   "execution_count": 9,
   "metadata": {
    "collapsed": false,
    "deletable": true,
    "editable": true
   },
   "outputs": [
    {
     "name": "stdout",
     "output_type": "stream",
     "text": [
      "('Numer of images of category y1', (557,))\n",
      "('Numer of images of category y2', (606,))\n",
      "('testing with:', (291,), 'images')\n",
      "Extracting the top 150 eigenfaces from 872 faces\n",
      "done in 36.908s\n",
      "Projecting the input data on the eigenfaces orthonormal basis\n",
      "done in 3.412s\n",
      "Fitting the classifier to the training set\n",
      "done in 20.149s\n",
      "Best estimator found by grid search:\n",
      "SVC(C=1000.0, cache_size=200, class_weight='balanced', coef0=0.0,\n",
      "  decision_function_shape=None, degree=3, gamma=0.001, kernel='rbf',\n",
      "  max_iter=-1, probability=False, random_state=None, shrinking=True,\n",
      "  tol=0.001, verbose=False)\n",
      "Predicting people's names on the test set\n",
      "done in 0.032s\n",
      "             precision    recall  f1-score   support\n",
      "\n",
      "      trash       0.61      0.39      0.48       146\n",
      "    grafiti       0.55      0.75      0.64       145\n",
      "\n",
      "avg / total       0.58      0.57      0.56       291\n",
      "\n",
      "[[ 57  89]\n",
      " [ 36 109]]\n"
     ]
    }
   ],
   "source": [
    "X=0\n",
    "(X,Y) = im.ImageLoader(0, downsampling=True, colour='red', verticalEdge=True, horizontalEdge=False, canny=False, slic=False, sizeImage=400, dim=1)\n",
    "svmlab.performSVM(X,Y,150, 0.25, 2, 400,400)"
   ]
  },
  {
   "cell_type": "code",
   "execution_count": 9,
   "metadata": {
    "collapsed": false
   },
   "outputs": [
    {
     "name": "stdout",
     "output_type": "stream",
     "text": [
      "('Numer of images of category y1', (557,))\n",
      "('Numer of images of category y2', (606,))\n",
      "('testing with:', (291,), 'images')\n",
      "Extracting the top 150 eigenfaces from 872 faces\n",
      "done in 6.144s\n",
      "Projecting the input data on the eigenfaces orthonormal basis\n",
      "done in 0.595s\n",
      "Fitting the classifier to the training set\n",
      "done in 23.890s\n",
      "Best estimator found by grid search:\n",
      "SVC(C=10000.0, cache_size=200, class_weight='balanced', coef0=0.0,\n",
      "  decision_function_shape=None, degree=3, gamma=0.0001, kernel='rbf',\n",
      "  max_iter=-1, probability=False, random_state=None, shrinking=True,\n",
      "  tol=0.001, verbose=False)\n",
      "Predicting people's names on the test set\n",
      "done in 0.044s\n",
      "             precision    recall  f1-score   support\n",
      "\n",
      "      trash       0.64      0.49      0.56       146\n",
      "    grafiti       0.59      0.72      0.65       145\n",
      "\n",
      "avg / total       0.61      0.61      0.60       291\n",
      "\n",
      "[[ 72  74]\n",
      " [ 40 105]]\n"
     ]
    }
   ],
   "source": [
    "X=0\n",
    "(X,Y) = im.ImageLoader(0, downsampling=True, colour='red', verticalEdge=True, horizontalEdge=False, canny=False, slic=False, sizeImage=200, dim=1,  vectorx=True, vectory=True)\n",
    "svmlab.performSVM(X,Y,150, 0.25, 2, 200,200)"
   ]
  },
  {
   "cell_type": "code",
   "execution_count": 8,
   "metadata": {
    "collapsed": false
   },
   "outputs": [
    {
     "data": {
      "text/plain": [
       "(1163, 200, 200, 1)"
      ]
     },
     "execution_count": 8,
     "metadata": {},
     "output_type": "execute_result"
    }
   ],
   "source": [
    "X.shape"
   ]
  },
  {
   "cell_type": "code",
   "execution_count": 10,
   "metadata": {
    "collapsed": false,
    "deletable": true,
    "editable": true
   },
   "outputs": [
    {
     "name": "stdout",
     "output_type": "stream",
     "text": [
      "('Numer of images of category y1', (557,))\n",
      "('Numer of images of category y2', (606,))\n",
      "('testing with:', (291,), 'images')\n",
      "Extracting the top 150 eigenfaces from 872 faces\n",
      "done in 31.023s\n",
      "Projecting the input data on the eigenfaces orthonormal basis\n",
      "done in 3.234s\n",
      "Fitting the classifier to the training set\n",
      "done in 19.440s\n",
      "Best estimator found by grid search:\n",
      "SVC(C=1000.0, cache_size=200, class_weight='balanced', coef0=0.0,\n",
      "  decision_function_shape=None, degree=3, gamma=0.01, kernel='rbf',\n",
      "  max_iter=-1, probability=False, random_state=None, shrinking=True,\n",
      "  tol=0.001, verbose=False)\n",
      "Predicting people's names on the test set\n",
      "done in 0.032s\n",
      "             precision    recall  f1-score   support\n",
      "\n",
      "      trash       0.62      0.42      0.50       146\n",
      "    grafiti       0.56      0.74      0.64       145\n",
      "\n",
      "avg / total       0.59      0.58      0.57       291\n",
      "\n",
      "[[ 62  84]\n",
      " [ 38 107]]\n"
     ]
    }
   ],
   "source": [
    "X=0\n",
    "(X,Y) = im.ImageLoader(0, downsampling=True, colour='red', verticalEdge=False, horizontalEdge=True, canny=False, slic=False, sizeImage=400, dim=1)\n",
    "svmlab.performSVM(X,Y,150, 0.25, 2, 400,400)"
   ]
  },
  {
   "cell_type": "code",
   "execution_count": 10,
   "metadata": {
    "collapsed": false
   },
   "outputs": [
    {
     "name": "stdout",
     "output_type": "stream",
     "text": [
      "('Numer of images of category y1', (557,))\n",
      "('Numer of images of category y2', (606,))\n",
      "('testing with:', (291,), 'images')\n",
      "Extracting the top 150 eigenfaces from 872 faces\n",
      "done in 5.765s\n",
      "Projecting the input data on the eigenfaces orthonormal basis\n",
      "done in 0.573s\n",
      "Fitting the classifier to the training set\n",
      "done in 18.751s\n",
      "Best estimator found by grid search:\n",
      "SVC(C=1000.0, cache_size=200, class_weight='balanced', coef0=0.0,\n",
      "  decision_function_shape=None, degree=3, gamma=0.01, kernel='rbf',\n",
      "  max_iter=-1, probability=False, random_state=None, shrinking=True,\n",
      "  tol=0.001, verbose=False)\n",
      "Predicting people's names on the test set\n",
      "done in 0.031s\n",
      "             precision    recall  f1-score   support\n",
      "\n",
      "      trash       0.63      0.46      0.53       146\n",
      "    grafiti       0.57      0.73      0.64       145\n",
      "\n",
      "avg / total       0.60      0.59      0.59       291\n",
      "\n",
      "[[ 67  79]\n",
      " [ 39 106]]\n"
     ]
    }
   ],
   "source": [
    "X=0\n",
    "(X,Y) = im.ImageLoader(0, downsampling=True, colour='red', verticalEdge=False, horizontalEdge=True, canny=False, slic=False, sizeImage=200, dim=1,  vectorx=True, vectory=True)\n",
    "svmlab.performSVM(X,Y,150, 0.25, 2, 200,200)"
   ]
  },
  {
   "cell_type": "code",
   "execution_count": 11,
   "metadata": {
    "collapsed": false,
    "deletable": true,
    "editable": true
   },
   "outputs": [
    {
     "name": "stdout",
     "output_type": "stream",
     "text": [
      "('Numer of images of category y1', (557,))\n",
      "('Numer of images of category y2', (606,))\n",
      "('testing with:', (291,), 'images')\n",
      "Extracting the top 150 eigenfaces from 872 faces\n",
      "done in 23.936s\n",
      "Projecting the input data on the eigenfaces orthonormal basis\n",
      "done in 2.245s\n",
      "Fitting the classifier to the training set\n",
      "done in 17.506s\n",
      "Best estimator found by grid search:\n",
      "SVC(C=5000.0, cache_size=200, class_weight='balanced', coef0=0.0,\n",
      "  decision_function_shape=None, degree=3, gamma=0.0001, kernel='rbf',\n",
      "  max_iter=-1, probability=False, random_state=None, shrinking=True,\n",
      "  tol=0.001, verbose=False)\n",
      "Predicting people's names on the test set\n",
      "done in 0.036s\n",
      "             precision    recall  f1-score   support\n",
      "\n",
      "      trash       0.78      0.50      0.61       146\n",
      "    grafiti       0.63      0.86      0.73       145\n",
      "\n",
      "avg / total       0.71      0.68      0.67       291\n",
      "\n",
      "[[ 73  73]\n",
      " [ 20 125]]\n"
     ]
    }
   ],
   "source": [
    "X=0\n",
    "(X,Y) = im.ImageLoader(0, downsampling=True, colour='', verticalEdge=False, horizontalEdge=False, canny=False, slic=False, sizeImage=200, dim=3)\n",
    "svmlab.performSVM(X,Y,150, 0.25, 2, 200,200)"
   ]
  },
  {
   "cell_type": "code",
   "execution_count": 12,
   "metadata": {
    "collapsed": false,
    "deletable": true,
    "editable": true
   },
   "outputs": [
    {
     "name": "stdout",
     "output_type": "stream",
     "text": [
      "('Numer of images of category y1', (557,))\n",
      "('Numer of images of category y2', (606,))\n",
      "('testing with:', (291,), 'images')\n",
      "Extracting the top 150 eigenfaces from 872 faces\n",
      "done in 20.879s\n",
      "Projecting the input data on the eigenfaces orthonormal basis\n",
      "done in 1.946s\n",
      "Fitting the classifier to the training set\n",
      "done in 16.383s\n",
      "Best estimator found by grid search:\n",
      "SVC(C=1000.0, cache_size=200, class_weight='balanced', coef0=0.0,\n",
      "  decision_function_shape=None, degree=3, gamma=0.01, kernel='rbf',\n",
      "  max_iter=-1, probability=False, random_state=None, shrinking=True,\n",
      "  tol=0.001, verbose=False)\n",
      "Predicting people's names on the test set\n",
      "done in 0.042s\n",
      "             precision    recall  f1-score   support\n",
      "\n",
      "      trash       0.73      0.76      0.74       146\n",
      "    grafiti       0.75      0.71      0.73       145\n",
      "\n",
      "avg / total       0.74      0.74      0.74       291\n",
      "\n",
      "[[111  35]\n",
      " [ 42 103]]\n"
     ]
    }
   ],
   "source": [
    "X=0\n",
    "(X,Y) = im.ImageLoader(0, downsampling=True, colour='', verticalEdge=False, horizontalEdge=False, canny=False, slic=True, sizeImage=200, dim=3)\n",
    "svmlab.performSVM(X,Y,150, 0.25, 2, 200,200)"
   ]
  },
  {
   "cell_type": "code",
   "execution_count": 13,
   "metadata": {
    "collapsed": false,
    "deletable": true,
    "editable": true
   },
   "outputs": [
    {
     "name": "stdout",
     "output_type": "stream",
     "text": [
      "('Numer of images of category y1', (557,))\n",
      "('Numer of images of category y2', (606,))\n",
      "('testing with:', (291,), 'images')\n",
      "Extracting the top 150 eigenfaces from 872 faces\n",
      "done in 31.841s\n",
      "Projecting the input data on the eigenfaces orthonormal basis\n",
      "done in 3.265s\n",
      "Fitting the classifier to the training set\n",
      "done in 18.090s\n",
      "Best estimator found by grid search:\n",
      "SVC(C=1000.0, cache_size=200, class_weight='balanced', coef0=0.0,\n",
      "  decision_function_shape=None, degree=3, gamma=0.0001, kernel='rbf',\n",
      "  max_iter=-1, probability=False, random_state=None, shrinking=True,\n",
      "  tol=0.001, verbose=False)\n",
      "Predicting people's names on the test set\n",
      "done in 0.034s\n",
      "             precision    recall  f1-score   support\n",
      "\n",
      "      trash       0.64      0.60      0.62       146\n",
      "    grafiti       0.62      0.66      0.64       145\n",
      "\n",
      "avg / total       0.63      0.63      0.63       291\n",
      "\n",
      "[[88 58]\n",
      " [49 96]]\n"
     ]
    }
   ],
   "source": [
    "X=0\n",
    "(X,Y) = im.ImageLoader(0, downsampling=True, colour='', verticalEdge=False, horizontalEdge=False, canny=True, slic=False, sizeImage=400, dim=1)\n",
    "svmlab.performSVM(X,Y,150, 0.25, 2, 400,400)"
   ]
  },
  {
   "cell_type": "code",
   "execution_count": 14,
   "metadata": {
    "collapsed": false,
    "deletable": true,
    "editable": true
   },
   "outputs": [
    {
     "name": "stdout",
     "output_type": "stream",
     "text": [
      "('Numer of images of category y1', (557,))\n",
      "('Numer of images of category y2', (606,))\n",
      "('testing with:', (291,), 'images')\n",
      "Extracting the top 150 eigenfaces from 872 faces\n",
      "done in 27.891s\n",
      "Projecting the input data on the eigenfaces orthonormal basis\n",
      "done in 3.024s\n",
      "Fitting the classifier to the training set\n",
      "done in 21.884s\n",
      "Best estimator found by grid search:\n",
      "SVC(C=5000.0, cache_size=200, class_weight='balanced', coef0=0.0,\n",
      "  decision_function_shape=None, degree=3, gamma=0.0001, kernel='rbf',\n",
      "  max_iter=-1, probability=False, random_state=None, shrinking=True,\n",
      "  tol=0.001, verbose=False)\n",
      "Predicting people's names on the test set\n",
      "done in 0.032s\n",
      "             precision    recall  f1-score   support\n",
      "\n",
      "      trash       0.62      0.67      0.65       146\n",
      "    grafiti       0.64      0.59      0.62       145\n",
      "\n",
      "avg / total       0.63      0.63      0.63       291\n",
      "\n",
      "[[98 48]\n",
      " [59 86]]\n"
     ]
    }
   ],
   "source": [
    "X=0\n",
    "(X,Y) = im.ImageLoader(0, downsampling=False, colour='red', verticalEdge=False, horizontalEdge=False, canny=True, slic=False, sizeImage=400, dim=1)\n",
    "svmlab.performSVM(X,Y,150, 0.25, 2, 400,400)"
   ]
  },
  {
   "cell_type": "code",
   "execution_count": 15,
   "metadata": {
    "collapsed": false,
    "deletable": true,
    "editable": true
   },
   "outputs": [
    {
     "name": "stdout",
     "output_type": "stream",
     "text": [
      "('Numer of images of category y1', (557,))\n",
      "('Numer of images of category y2', (606,))\n",
      "('testing with:', (291,), 'images')\n",
      "Extracting the top 150 eigenfaces from 872 faces\n",
      "done in 26.809s\n",
      "Projecting the input data on the eigenfaces orthonormal basis\n",
      "done in 3.105s\n",
      "Fitting the classifier to the training set\n",
      "done in 22.242s\n",
      "Best estimator found by grid search:\n",
      "SVC(C=5000.0, cache_size=200, class_weight='balanced', coef0=0.0,\n",
      "  decision_function_shape=None, degree=3, gamma=0.0001, kernel='rbf',\n",
      "  max_iter=-1, probability=False, random_state=None, shrinking=True,\n",
      "  tol=0.001, verbose=False)\n",
      "Predicting people's names on the test set\n",
      "done in 0.033s\n",
      "             precision    recall  f1-score   support\n",
      "\n",
      "      trash       0.61      0.62      0.61       146\n",
      "    grafiti       0.61      0.59      0.60       145\n",
      "\n",
      "avg / total       0.61      0.61      0.61       291\n",
      "\n",
      "[[91 55]\n",
      " [59 86]]\n"
     ]
    }
   ],
   "source": [
    "X=0\n",
    "(X,Y) = im.ImageLoader(0, downsampling=False, colour='blue', verticalEdge=False, horizontalEdge=False, canny=True, slic=False, sizeImage=400, dim=1)\n",
    "svmlab.performSVM(X,Y,150, 0.25, 2, 400,400)"
   ]
  },
  {
   "cell_type": "code",
   "execution_count": 16,
   "metadata": {
    "collapsed": false,
    "deletable": true,
    "editable": true
   },
   "outputs": [
    {
     "name": "stdout",
     "output_type": "stream",
     "text": [
      "('Numer of images of category y1', (557,))\n",
      "('Numer of images of category y2', (606,))\n",
      "('testing with:', (291,), 'images')\n",
      "Extracting the top 150 eigenfaces from 872 faces\n",
      "done in 27.118s\n",
      "Projecting the input data on the eigenfaces orthonormal basis\n",
      "done in 2.791s\n",
      "Fitting the classifier to the training set\n",
      "done in 22.095s\n",
      "Best estimator found by grid search:\n",
      "SVC(C=1000.0, cache_size=200, class_weight='balanced', coef0=0.0,\n",
      "  decision_function_shape=None, degree=3, gamma=0.0001, kernel='rbf',\n",
      "  max_iter=-1, probability=False, random_state=None, shrinking=True,\n",
      "  tol=0.001, verbose=False)\n",
      "Predicting people's names on the test set\n",
      "done in 0.033s\n",
      "             precision    recall  f1-score   support\n",
      "\n",
      "      trash       0.62      0.67      0.64       146\n",
      "    grafiti       0.64      0.58      0.61       145\n",
      "\n",
      "avg / total       0.63      0.63      0.62       291\n",
      "\n",
      "[[98 48]\n",
      " [61 84]]\n"
     ]
    }
   ],
   "source": [
    "X=0\n",
    "(X,Y) = im.ImageLoader(0, downsampling=False, colour='green', verticalEdge=False, horizontalEdge=False, canny=True, slic=False, sizeImage=400, dim=1)\n",
    "svmlab.performSVM(X,Y,150, 0.25, 2, 400,400)"
   ]
  }
 ],
 "metadata": {
  "kernelspec": {
   "display_name": "Python 2",
   "language": "python",
   "name": "python2"
  },
  "language_info": {
   "codemirror_mode": {
    "name": "ipython",
    "version": 2
   },
   "file_extension": ".py",
   "mimetype": "text/x-python",
   "name": "python",
   "nbconvert_exporter": "python",
   "pygments_lexer": "ipython2",
   "version": "2.7.12"
  }
 },
 "nbformat": 4,
 "nbformat_minor": 2
}
