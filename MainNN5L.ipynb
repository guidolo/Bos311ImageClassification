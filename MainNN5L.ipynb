{
 "cells": [
  {
   "cell_type": "code",
   "execution_count": 1,
   "metadata": {
    "collapsed": true
   },
   "outputs": [],
   "source": [
    "import sys\n",
    "\n",
    "sys.path.insert(0, '/home/guido/NEU/DA 5030 Introduction to Data MiningMachine Learning/FinalProject/Laboratory/ImageProcessing/')\n",
    "import ImageProcessing as im\n",
    "\n",
    "sys.path.insert(0, '/home/guido/NEU/DA 5030 Introduction to Data MiningMachine Learning/FinalProject/Laboratory/NeuralNet Lab/')\n",
    "import NN5L as nn"
   ]
  },
  {
   "cell_type": "code",
   "execution_count": null,
   "metadata": {
    "collapsed": true
   },
   "outputs": [],
   "source": [
    "try:\n",
    "    (images,y) = im.ImageLoader(0, downsampling=True, colour='', verticalEdge=False, horizontalEdge=False, canny=False, slic=True, sizeImage=200, dim=3, vectorx=False, vectory=False)\n",
    "    nn.NN5L(images = images, y=y, percent_training=0.25, classes=2,w=200, h=200, dim=3, banchSize=10, iteration=100)"
   ]
  }
 ],
 "metadata": {
  "kernelspec": {
   "display_name": "Python 2",
   "language": "python",
   "name": "python2"
  },
  "language_info": {
   "codemirror_mode": {
    "name": "ipython",
    "version": 2
   },
   "file_extension": ".py",
   "mimetype": "text/x-python",
   "name": "python",
   "nbconvert_exporter": "python",
   "pygments_lexer": "ipython2",
   "version": "2.7.12"
  }
 },
 "nbformat": 4,
 "nbformat_minor": 2
}
